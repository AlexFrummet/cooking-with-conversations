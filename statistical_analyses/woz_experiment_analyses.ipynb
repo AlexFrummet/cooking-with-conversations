{
 "cells": [
  {
   "cell_type": "markdown",
   "id": "f55bece8-34fc-4348-82c5-47451efc8778",
   "metadata": {},
   "source": [
    "# WoZ TaskMAD Experiment Analysis\n",
    "\n",
    "This notebook analyses knowledge-grounded cooking conversations gathered in a WoZ experiment using the TaskMAD framework. We aim to answer the following questions:\n",
    "1. How many information nuggets were transferred in conversations?\n",
    "2. Are there differences in active/passive conditions?\n",
    "3. Are there differences between various age groups?\n",
    "4. How many information nuggets are conveyed in response to different information needs?\n",
    "5. Which information sources were used to satisfy various information needs?\n",
    "6. How long are user/agent utterances?\n",
    "7. How long are the conversations?"
   ]
  },
  {
   "cell_type": "code",
   "execution_count": 687,
   "id": "9ac9b086-782e-4812-b89a-d4876cfef9d7",
   "metadata": {},
   "outputs": [],
   "source": [
    "# We first import required packages\n",
    "import pandas as pd\n",
    "import numpy as np\n",
    "import matplotlib.pyplot as plt\n",
    "from IPython.display import Markdown as md\n",
    "from sklearn.metrics import accuracy_score\n",
    "plt.style.use('ggplot') \n",
    "import seaborn as sns\n",
    "import scipy.stats as stats\n",
    "import researchpy as rp\n",
    "import scikit_posthocs as sp"
   ]
  },
  {
   "cell_type": "markdown",
   "id": "77e2b322-f6e5-4129-8cc4-fc844861a57b",
   "metadata": {},
   "source": [
    "And then proceed to import the annotated information nugget file we use to compute all the stats in our paper..."
   ]
  },
  {
   "cell_type": "code",
   "execution_count": 747,
   "id": "76e08f09-b49f-4374-ae87-4b097b917061",
   "metadata": {},
   "outputs": [
    {
     "data": {
      "text/html": [
       "<div>\n",
       "<style scoped>\n",
       "    .dataframe tbody tr th:only-of-type {\n",
       "        vertical-align: middle;\n",
       "    }\n",
       "\n",
       "    .dataframe tbody tr th {\n",
       "        vertical-align: top;\n",
       "    }\n",
       "\n",
       "    .dataframe thead th {\n",
       "        text-align: right;\n",
       "    }\n",
       "</style>\n",
       "<table border=\"1\" class=\"dataframe\">\n",
       "  <thead>\n",
       "    <tr style=\"text-align: right;\">\n",
       "      <th></th>\n",
       "      <th>id</th>\n",
       "      <th>utterance</th>\n",
       "      <th>conv_id</th>\n",
       "      <th>age</th>\n",
       "      <th>gender</th>\n",
       "      <th>condition</th>\n",
       "      <th>gpt_3_nugget_count</th>\n",
       "      <th>chat_gpt_nugget_count</th>\n",
       "      <th>chat_gpt_explanation</th>\n",
       "      <th>age_group</th>\n",
       "    </tr>\n",
       "  </thead>\n",
       "  <tbody>\n",
       "    <tr>\n",
       "      <th>0</th>\n",
       "      <td>-NGusXPorNbKoO2IAC6F</td>\n",
       "      <td>Glass is important because it determines the r...</td>\n",
       "      <td>cegcgsG</td>\n",
       "      <td>55-64</td>\n",
       "      <td>female</td>\n",
       "      <td>active</td>\n",
       "      <td>3</td>\n",
       "      <td>3</td>\n",
       "      <td>3</td>\n",
       "      <td>45 or older</td>\n",
       "    </tr>\n",
       "    <tr>\n",
       "      <th>1</th>\n",
       "      <td>-NGWZQuXZ169LLcuMXrt</td>\n",
       "      <td>So this is the process of maceration I told yo...</td>\n",
       "      <td>rfAHhxd</td>\n",
       "      <td>65-74</td>\n",
       "      <td>male</td>\n",
       "      <td>active</td>\n",
       "      <td>0</td>\n",
       "      <td>3</td>\n",
       "      <td>3</td>\n",
       "      <td>younger than 45</td>\n",
       "    </tr>\n",
       "    <tr>\n",
       "      <th>2</th>\n",
       "      <td>-NGvd8ZKH9ZuNcrqgBuX</td>\n",
       "      <td>I cannot tell you an exact temperature, but hi...</td>\n",
       "      <td>tLrorpH</td>\n",
       "      <td>55-64</td>\n",
       "      <td>female</td>\n",
       "      <td>active</td>\n",
       "      <td>2</td>\n",
       "      <td>2</td>\n",
       "      <td>Two</td>\n",
       "      <td>45 or older</td>\n",
       "    </tr>\n",
       "    <tr>\n",
       "      <th>3</th>\n",
       "      <td>-NKneWlmmI9gmW3Q97ER</td>\n",
       "      <td>Are you planning to use an electric hand blender?</td>\n",
       "      <td>2424a396</td>\n",
       "      <td>45-54</td>\n",
       "      <td>female</td>\n",
       "      <td>active</td>\n",
       "      <td>0</td>\n",
       "      <td>1</td>\n",
       "      <td>NaN</td>\n",
       "      <td>45 or older</td>\n",
       "    </tr>\n",
       "    <tr>\n",
       "      <th>4</th>\n",
       "      <td>-NGvkOLA_8fFuUYMSGdZ</td>\n",
       "      <td>A whisking method by a famous French chef is t...</td>\n",
       "      <td>tLrorpH</td>\n",
       "      <td>55-64</td>\n",
       "      <td>female</td>\n",
       "      <td>active</td>\n",
       "      <td>1</td>\n",
       "      <td>1</td>\n",
       "      <td>1 (one)</td>\n",
       "      <td>45 or older</td>\n",
       "    </tr>\n",
       "  </tbody>\n",
       "</table>\n",
       "</div>"
      ],
      "text/plain": [
       "                     id                                          utterance  \\\n",
       "0  -NGusXPorNbKoO2IAC6F  Glass is important because it determines the r...   \n",
       "1  -NGWZQuXZ169LLcuMXrt  So this is the process of maceration I told yo...   \n",
       "2  -NGvd8ZKH9ZuNcrqgBuX  I cannot tell you an exact temperature, but hi...   \n",
       "3  -NKneWlmmI9gmW3Q97ER  Are you planning to use an electric hand blender?   \n",
       "4  -NGvkOLA_8fFuUYMSGdZ  A whisking method by a famous French chef is t...   \n",
       "\n",
       "    conv_id    age  gender condition  gpt_3_nugget_count  \\\n",
       "0   cegcgsG  55-64  female    active                   3   \n",
       "1   rfAHhxd  65-74    male    active                   0   \n",
       "2   tLrorpH  55-64  female    active                   2   \n",
       "3  2424a396  45-54  female    active                   0   \n",
       "4   tLrorpH  55-64  female    active                   1   \n",
       "\n",
       "   chat_gpt_nugget_count chat_gpt_explanation        age_group  \n",
       "0                      3                    3      45 or older  \n",
       "1                      3                    3  younger than 45  \n",
       "2                      2                  Two      45 or older  \n",
       "3                      1                  NaN      45 or older  \n",
       "4                      1              1 (one)      45 or older  "
      ]
     },
     "execution_count": 747,
     "metadata": {},
     "output_type": "execute_result"
    }
   ],
   "source": [
    "info_nuggets = pd.read_csv(\"data_nugget_analysis/woz_data_analysis_files/annotations_info_nugget_final.tsv\", delimiter=\"\\t\")\n",
    "#info_nuggets['age_group'] = np.where((info_nuggets['age']=='45-54')|(info_nuggets['age']=='55-64'), '45 or older','younger than 45') \n",
    "info_nuggets.head(5)"
   ]
  },
  {
   "cell_type": "code",
   "execution_count": 748,
   "id": "7ee2f875-f79e-4e3c-b832-8240a1fda75c",
   "metadata": {},
   "outputs": [
    {
     "name": "stdout",
     "output_type": "stream",
     "text": [
      "In total, there are 1382 agent utterances. 309 utterances contain information nuggets.\n"
     ]
    }
   ],
   "source": [
    "print(f\"In total, there are {len(info_nuggets)} agent utterances. {len(info_nuggets[info_nuggets['gpt_3_nugget_count']!=0])} utterances contain information nuggets.\")"
   ]
  },
  {
   "cell_type": "markdown",
   "id": "4ace76a6-a67f-4d38-b400-fd79f37a04be",
   "metadata": {},
   "source": [
    "**How many agent utterances are in the active/passive condition?**"
   ]
  },
  {
   "cell_type": "code",
   "execution_count": 749,
   "id": "9c608d25-4d71-4344-9c9c-a397c65d8d64",
   "metadata": {},
   "outputs": [
    {
     "data": {
      "text/plain": [
       "active     993\n",
       "passive    389\n",
       "Name: condition, dtype: int64"
      ]
     },
     "execution_count": 749,
     "metadata": {},
     "output_type": "execute_result"
    }
   ],
   "source": [
    "info_nuggets['condition'].value_counts()"
   ]
  },
  {
   "cell_type": "markdown",
   "id": "5e2c20c4-b1d6-428e-aadc-475f5618f64f",
   "metadata": {},
   "source": [
    "**How old are our participants?**"
   ]
  },
  {
   "cell_type": "code",
   "execution_count": 750,
   "id": "636ceb97-d7a7-4962-b677-363b99f9e0a6",
   "metadata": {},
   "outputs": [
    {
     "data": {
      "text/plain": [
       "45-54    16\n",
       "25-34    10\n",
       "35-44     9\n",
       "18-24     5\n",
       "55-64     5\n",
       "65-74     3\n",
       "Name: age, dtype: int64"
      ]
     },
     "execution_count": 750,
     "metadata": {},
     "output_type": "execute_result"
    }
   ],
   "source": [
    "info_nuggets.groupby('conv_id')['age'].first().value_counts()"
   ]
  },
  {
   "cell_type": "code",
   "execution_count": 751,
   "id": "47cb0096-328d-428d-b47c-d649daa77c2c",
   "metadata": {},
   "outputs": [
    {
     "data": {
      "text/plain": [
       "45-54    33.333333\n",
       "25-34    20.833333\n",
       "35-44    18.750000\n",
       "18-24    10.416667\n",
       "55-64    10.416667\n",
       "65-74     6.250000\n",
       "Name: age, dtype: float64"
      ]
     },
     "execution_count": 751,
     "metadata": {},
     "output_type": "execute_result"
    }
   ],
   "source": [
    "info_nuggets.groupby('conv_id')['age'].first().value_counts(normalize=True)*100"
   ]
  },
  {
   "cell_type": "markdown",
   "id": "8eb942c5-6c17-41b8-b9e6-b3cd30ec1b29",
   "metadata": {},
   "source": [
    "**Which gender do they have?**"
   ]
  },
  {
   "cell_type": "code",
   "execution_count": 752,
   "id": "e82135f4-e1bc-46b6-bd36-de0fb3c96893",
   "metadata": {},
   "outputs": [
    {
     "data": {
      "text/plain": [
       "female        64.583333\n",
       "male          33.333333\n",
       "non-binary     2.083333\n",
       "Name: gender, dtype: float64"
      ]
     },
     "execution_count": 752,
     "metadata": {},
     "output_type": "execute_result"
    }
   ],
   "source": [
    "info_nuggets.groupby('conv_id')['gender'].first().value_counts(normalize=True)*100"
   ]
  },
  {
   "cell_type": "markdown",
   "id": "f72ae163-ffd5-456c-921a-beb9ecb3d91a",
   "metadata": {},
   "source": [
    "## 1. How many information nuggets are transferred in conversations?"
   ]
  },
  {
   "cell_type": "markdown",
   "id": "e97b2c2f-dfa2-4f04-a175-f30e14c88c3b",
   "metadata": {},
   "source": [
    "We group agent utterances by conversation and condition..."
   ]
  },
  {
   "cell_type": "code",
   "execution_count": 753,
   "id": "c0889ce2-33c3-43d5-a689-5a7ad74bdbf4",
   "metadata": {},
   "outputs": [],
   "source": [
    "condition_conv_group = info_nuggets.groupby(['condition','conv_id']).sum()"
   ]
  },
  {
   "cell_type": "code",
   "execution_count": 754,
   "id": "81914a15-2682-47a6-831b-ca24fdd06fc5",
   "metadata": {},
   "outputs": [
    {
     "data": {
      "text/plain": [
       "<AxesSubplot: title={'center': 'gpt_3_nugget_count'}, xlabel='condition'>"
      ]
     },
     "execution_count": 754,
     "metadata": {},
     "output_type": "execute_result"
    },
    {
     "data": {
      "image/png": "[encoded data removed]",
      "text/plain": [
       "<Figure size 640x480 with 1 Axes>"
      ]
     },
     "metadata": {},
     "output_type": "display_data"
    }
   ],
   "source": [
    "condition_conv_group.boxplot(column=\"gpt_3_nugget_count\", by=\"condition\")"
   ]
  },
  {
   "cell_type": "code",
   "execution_count": 755,
   "id": "f221bd31-ebea-4a71-8678-70abee76ee71",
   "metadata": {},
   "outputs": [
    {
     "name": "stdout",
     "output_type": "stream",
     "text": [
      "Active condition nugget counts\n"
     ]
    },
    {
     "data": {
      "text/html": [
       "<div>\n",
       "<style scoped>\n",
       "    .dataframe tbody tr th:only-of-type {\n",
       "        vertical-align: middle;\n",
       "    }\n",
       "\n",
       "    .dataframe tbody tr th {\n",
       "        vertical-align: top;\n",
       "    }\n",
       "\n",
       "    .dataframe thead th {\n",
       "        text-align: right;\n",
       "    }\n",
       "</style>\n",
       "<table border=\"1\" class=\"dataframe\">\n",
       "  <thead>\n",
       "    <tr style=\"text-align: right;\">\n",
       "      <th></th>\n",
       "      <th>gpt_3_nugget_count</th>\n",
       "      <th>chat_gpt_nugget_count</th>\n",
       "    </tr>\n",
       "  </thead>\n",
       "  <tbody>\n",
       "    <tr>\n",
       "      <th>count</th>\n",
       "      <td>24.000000</td>\n",
       "      <td>24.000000</td>\n",
       "    </tr>\n",
       "    <tr>\n",
       "      <th>mean</th>\n",
       "      <td>15.875000</td>\n",
       "      <td>42.625000</td>\n",
       "    </tr>\n",
       "    <tr>\n",
       "      <th>std</th>\n",
       "      <td>9.008752</td>\n",
       "      <td>15.942321</td>\n",
       "    </tr>\n",
       "    <tr>\n",
       "      <th>min</th>\n",
       "      <td>4.000000</td>\n",
       "      <td>19.000000</td>\n",
       "    </tr>\n",
       "    <tr>\n",
       "      <th>25%</th>\n",
       "      <td>10.000000</td>\n",
       "      <td>29.250000</td>\n",
       "    </tr>\n",
       "    <tr>\n",
       "      <th>50%</th>\n",
       "      <td>14.500000</td>\n",
       "      <td>43.500000</td>\n",
       "    </tr>\n",
       "    <tr>\n",
       "      <th>75%</th>\n",
       "      <td>21.000000</td>\n",
       "      <td>53.500000</td>\n",
       "    </tr>\n",
       "    <tr>\n",
       "      <th>max</th>\n",
       "      <td>47.000000</td>\n",
       "      <td>74.000000</td>\n",
       "    </tr>\n",
       "  </tbody>\n",
       "</table>\n",
       "</div>"
      ],
      "text/plain": [
       "       gpt_3_nugget_count  chat_gpt_nugget_count\n",
       "count           24.000000              24.000000\n",
       "mean            15.875000              42.625000\n",
       "std              9.008752              15.942321\n",
       "min              4.000000              19.000000\n",
       "25%             10.000000              29.250000\n",
       "50%             14.500000              43.500000\n",
       "75%             21.000000              53.500000\n",
       "max             47.000000              74.000000"
      ]
     },
     "execution_count": 755,
     "metadata": {},
     "output_type": "execute_result"
    }
   ],
   "source": [
    "print(\"Active condition nugget counts\")\n",
    "condition_conv_group.groupby('condition').get_group('active').describe()"
   ]
  },
  {
   "cell_type": "code",
   "execution_count": 756,
   "id": "794d0483-3afa-4681-8564-96edd428e57c",
   "metadata": {},
   "outputs": [
    {
     "name": "stdout",
     "output_type": "stream",
     "text": [
      "Passive condition nugget counts\n"
     ]
    },
    {
     "data": {
      "text/html": [
       "<div>\n",
       "<style scoped>\n",
       "    .dataframe tbody tr th:only-of-type {\n",
       "        vertical-align: middle;\n",
       "    }\n",
       "\n",
       "    .dataframe tbody tr th {\n",
       "        vertical-align: top;\n",
       "    }\n",
       "\n",
       "    .dataframe thead th {\n",
       "        text-align: right;\n",
       "    }\n",
       "</style>\n",
       "<table border=\"1\" class=\"dataframe\">\n",
       "  <thead>\n",
       "    <tr style=\"text-align: right;\">\n",
       "      <th></th>\n",
       "      <th>gpt_3_nugget_count</th>\n",
       "      <th>chat_gpt_nugget_count</th>\n",
       "    </tr>\n",
       "  </thead>\n",
       "  <tbody>\n",
       "    <tr>\n",
       "      <th>count</th>\n",
       "      <td>24.00000</td>\n",
       "      <td>24.000000</td>\n",
       "    </tr>\n",
       "    <tr>\n",
       "      <th>mean</th>\n",
       "      <td>9.12500</td>\n",
       "      <td>18.791667</td>\n",
       "    </tr>\n",
       "    <tr>\n",
       "      <th>std</th>\n",
       "      <td>6.20177</td>\n",
       "      <td>9.245347</td>\n",
       "    </tr>\n",
       "    <tr>\n",
       "      <th>min</th>\n",
       "      <td>1.00000</td>\n",
       "      <td>5.000000</td>\n",
       "    </tr>\n",
       "    <tr>\n",
       "      <th>25%</th>\n",
       "      <td>3.75000</td>\n",
       "      <td>11.250000</td>\n",
       "    </tr>\n",
       "    <tr>\n",
       "      <th>50%</th>\n",
       "      <td>9.50000</td>\n",
       "      <td>18.500000</td>\n",
       "    </tr>\n",
       "    <tr>\n",
       "      <th>75%</th>\n",
       "      <td>12.25000</td>\n",
       "      <td>25.000000</td>\n",
       "    </tr>\n",
       "    <tr>\n",
       "      <th>max</th>\n",
       "      <td>22.00000</td>\n",
       "      <td>34.000000</td>\n",
       "    </tr>\n",
       "  </tbody>\n",
       "</table>\n",
       "</div>"
      ],
      "text/plain": [
       "       gpt_3_nugget_count  chat_gpt_nugget_count\n",
       "count            24.00000              24.000000\n",
       "mean              9.12500              18.791667\n",
       "std               6.20177               9.245347\n",
       "min               1.00000               5.000000\n",
       "25%               3.75000              11.250000\n",
       "50%               9.50000              18.500000\n",
       "75%              12.25000              25.000000\n",
       "max              22.00000              34.000000"
      ]
     },
     "execution_count": 756,
     "metadata": {},
     "output_type": "execute_result"
    }
   ],
   "source": [
    "print(\"Passive condition nugget counts\")\n",
    "condition_conv_group.groupby('condition').get_group('passive').describe()"
   ]
  },
  {
   "cell_type": "markdown",
   "id": "1ecbafbf-c7bb-4fa2-9fb3-8a77fb3903b0",
   "metadata": {},
   "source": [
    "## 2. Is the amount of info. nuggets transferred significantly different across conditions?"
   ]
  },
  {
   "cell_type": "code",
   "execution_count": 757,
   "id": "e1f80ed7-d9d9-4b51-a697-d3dcc870c3e5",
   "metadata": {},
   "outputs": [
    {
     "data": {
      "text/plain": [
       "MannwhitneyuResult(statistic=144.5, pvalue=0.0015725818155318504)"
      ]
     },
     "execution_count": 757,
     "metadata": {},
     "output_type": "execute_result"
    }
   ],
   "source": [
    "stats.mannwhitneyu(condition_conv_group.groupby('condition').get_group('active')[\"gpt_3_nugget_count\"], \n",
    "                condition_conv_group.groupby('condition').get_group('passive')[\"gpt_3_nugget_count\"])\n"
   ]
  },
  {
   "cell_type": "markdown",
   "id": "7402a06d-5396-4bb1-93ea-60204790c226",
   "metadata": {},
   "source": [
    "## 3. Are there differences between age groups?"
   ]
  },
  {
   "cell_type": "code",
   "execution_count": 758,
   "id": "9853c5fa-7979-42ee-a86f-9df431e335ee",
   "metadata": {
    "collapsed": true,
    "jupyter": {
     "outputs_hidden": true
    },
    "tags": []
   },
   "outputs": [
    {
     "data": {
      "text/html": [
       "<div>\n",
       "<style scoped>\n",
       "    .dataframe tbody tr th:only-of-type {\n",
       "        vertical-align: middle;\n",
       "    }\n",
       "\n",
       "    .dataframe tbody tr th {\n",
       "        vertical-align: top;\n",
       "    }\n",
       "\n",
       "    .dataframe thead th {\n",
       "        text-align: right;\n",
       "    }\n",
       "</style>\n",
       "<table border=\"1\" class=\"dataframe\">\n",
       "  <thead>\n",
       "    <tr style=\"text-align: right;\">\n",
       "      <th></th>\n",
       "      <th></th>\n",
       "      <th></th>\n",
       "      <th>gpt_3_nugget_count</th>\n",
       "      <th>chat_gpt_nugget_count</th>\n",
       "    </tr>\n",
       "    <tr>\n",
       "      <th>condition</th>\n",
       "      <th>age_group</th>\n",
       "      <th>conv_id</th>\n",
       "      <th></th>\n",
       "      <th></th>\n",
       "    </tr>\n",
       "  </thead>\n",
       "  <tbody>\n",
       "    <tr>\n",
       "      <th rowspan=\"24\" valign=\"top\">active</th>\n",
       "      <th rowspan=\"11\" valign=\"top\">45 or older</th>\n",
       "      <th>2424a396</th>\n",
       "      <td>8</td>\n",
       "      <td>19</td>\n",
       "    </tr>\n",
       "    <tr>\n",
       "      <th>57272517e386b9000e3e2b72</th>\n",
       "      <td>5</td>\n",
       "      <td>21</td>\n",
       "    </tr>\n",
       "    <tr>\n",
       "      <th>5ea196f089935b04d2ee69d9</th>\n",
       "      <td>18</td>\n",
       "      <td>37</td>\n",
       "    </tr>\n",
       "    <tr>\n",
       "      <th>612517df29cd32c6632b4a44</th>\n",
       "      <td>21</td>\n",
       "      <td>48</td>\n",
       "    </tr>\n",
       "    <tr>\n",
       "      <th>ABFwuoU</th>\n",
       "      <td>20</td>\n",
       "      <td>45</td>\n",
       "    </tr>\n",
       "    <tr>\n",
       "      <th>a9780bf6</th>\n",
       "      <td>6</td>\n",
       "      <td>55</td>\n",
       "    </tr>\n",
       "    <tr>\n",
       "      <th>c70f521</th>\n",
       "      <td>8</td>\n",
       "      <td>24</td>\n",
       "    </tr>\n",
       "    <tr>\n",
       "      <th>cegcgsG</th>\n",
       "      <td>21</td>\n",
       "      <td>55</td>\n",
       "    </tr>\n",
       "    <tr>\n",
       "      <th>ea5def48</th>\n",
       "      <td>12</td>\n",
       "      <td>42</td>\n",
       "    </tr>\n",
       "    <tr>\n",
       "      <th>ozf8rdojjw</th>\n",
       "      <td>10</td>\n",
       "      <td>31</td>\n",
       "    </tr>\n",
       "    <tr>\n",
       "      <th>tLrorpH</th>\n",
       "      <td>47</td>\n",
       "      <td>74</td>\n",
       "    </tr>\n",
       "    <tr>\n",
       "      <th rowspan=\"13\" valign=\"top\">younger than 45</th>\n",
       "      <th>1vNO49Y</th>\n",
       "      <td>14</td>\n",
       "      <td>50</td>\n",
       "    </tr>\n",
       "    <tr>\n",
       "      <th>4f7f5758</th>\n",
       "      <td>4</td>\n",
       "      <td>21</td>\n",
       "    </tr>\n",
       "    <tr>\n",
       "      <th>5e45a7e926e79c000bc12a85</th>\n",
       "      <td>21</td>\n",
       "      <td>21</td>\n",
       "    </tr>\n",
       "    <tr>\n",
       "      <th>5ed91d3f31d9c60a8ac27018</th>\n",
       "      <td>11</td>\n",
       "      <td>60</td>\n",
       "    </tr>\n",
       "    <tr>\n",
       "      <th>8nJXjVjBTQ</th>\n",
       "      <td>24</td>\n",
       "      <td>53</td>\n",
       "    </tr>\n",
       "    <tr>\n",
       "      <th>INfBowH</th>\n",
       "      <td>10</td>\n",
       "      <td>42</td>\n",
       "    </tr>\n",
       "    <tr>\n",
       "      <th>XYjHSL2Ky3</th>\n",
       "      <td>13</td>\n",
       "      <td>36</td>\n",
       "    </tr>\n",
       "    <tr>\n",
       "      <th>eiRY3df7Aq</th>\n",
       "      <td>18</td>\n",
       "      <td>52</td>\n",
       "    </tr>\n",
       "    <tr>\n",
       "      <th>j6iz4akqr2</th>\n",
       "      <td>13</td>\n",
       "      <td>24</td>\n",
       "    </tr>\n",
       "    <tr>\n",
       "      <th>o9UbVjHVrS</th>\n",
       "      <td>24</td>\n",
       "      <td>66</td>\n",
       "    </tr>\n",
       "    <tr>\n",
       "      <th>rEG2v4CE7m</th>\n",
       "      <td>15</td>\n",
       "      <td>46</td>\n",
       "    </tr>\n",
       "    <tr>\n",
       "      <th>rfAHhxd</th>\n",
       "      <td>23</td>\n",
       "      <td>65</td>\n",
       "    </tr>\n",
       "    <tr>\n",
       "      <th>v684ge8cmo</th>\n",
       "      <td>15</td>\n",
       "      <td>36</td>\n",
       "    </tr>\n",
       "    <tr>\n",
       "      <th rowspan=\"24\" valign=\"top\">passive</th>\n",
       "      <th rowspan=\"10\" valign=\"top\">45 or older</th>\n",
       "      <th>5c8d1bee1bb19f00019d519e</th>\n",
       "      <td>6</td>\n",
       "      <td>9</td>\n",
       "    </tr>\n",
       "    <tr>\n",
       "      <th>7460a2a0</th>\n",
       "      <td>20</td>\n",
       "      <td>30</td>\n",
       "    </tr>\n",
       "    <tr>\n",
       "      <th>Fxikuau</th>\n",
       "      <td>13</td>\n",
       "      <td>13</td>\n",
       "    </tr>\n",
       "    <tr>\n",
       "      <th>KlOmIXe</th>\n",
       "      <td>11</td>\n",
       "      <td>15</td>\n",
       "    </tr>\n",
       "    <tr>\n",
       "      <th>LFiNVaQ</th>\n",
       "      <td>18</td>\n",
       "      <td>18</td>\n",
       "    </tr>\n",
       "    <tr>\n",
       "      <th>PPmiUbC</th>\n",
       "      <td>12</td>\n",
       "      <td>25</td>\n",
       "    </tr>\n",
       "    <tr>\n",
       "      <th>nRHLDUQ</th>\n",
       "      <td>11</td>\n",
       "      <td>19</td>\n",
       "    </tr>\n",
       "    <tr>\n",
       "      <th>pC0jYVl</th>\n",
       "      <td>4</td>\n",
       "      <td>9</td>\n",
       "    </tr>\n",
       "    <tr>\n",
       "      <th>sVzhG</th>\n",
       "      <td>13</td>\n",
       "      <td>28</td>\n",
       "    </tr>\n",
       "    <tr>\n",
       "      <th>xMKcudn</th>\n",
       "      <td>8</td>\n",
       "      <td>21</td>\n",
       "    </tr>\n",
       "    <tr>\n",
       "      <th rowspan=\"14\" valign=\"top\">younger than 45</th>\n",
       "      <th>2b71cb60</th>\n",
       "      <td>2</td>\n",
       "      <td>9</td>\n",
       "    </tr>\n",
       "    <tr>\n",
       "      <th>55b3120cfdf99b6ef6263a71</th>\n",
       "      <td>9</td>\n",
       "      <td>34</td>\n",
       "    </tr>\n",
       "    <tr>\n",
       "      <th>577c065c9fecfe0001a5bcc7</th>\n",
       "      <td>2</td>\n",
       "      <td>5</td>\n",
       "    </tr>\n",
       "    <tr>\n",
       "      <th>5fdbb3b4e66d7f061f78ea21</th>\n",
       "      <td>1</td>\n",
       "      <td>12</td>\n",
       "    </tr>\n",
       "    <tr>\n",
       "      <th>608b0f7f4699c09aa348c57f</th>\n",
       "      <td>22</td>\n",
       "      <td>34</td>\n",
       "    </tr>\n",
       "    <tr>\n",
       "      <th>60c48655811ab33a8f77dd34</th>\n",
       "      <td>10</td>\n",
       "      <td>24</td>\n",
       "    </tr>\n",
       "    <tr>\n",
       "      <th>68942e2a</th>\n",
       "      <td>3</td>\n",
       "      <td>23</td>\n",
       "    </tr>\n",
       "    <tr>\n",
       "      <th>EioCaKa</th>\n",
       "      <td>5</td>\n",
       "      <td>15</td>\n",
       "    </tr>\n",
       "    <tr>\n",
       "      <th>bKBDfgUAa3</th>\n",
       "      <td>2</td>\n",
       "      <td>6</td>\n",
       "    </tr>\n",
       "    <tr>\n",
       "      <th>coe2XtNapn</th>\n",
       "      <td>10</td>\n",
       "      <td>25</td>\n",
       "    </tr>\n",
       "    <tr>\n",
       "      <th>h8x8QLzyCx</th>\n",
       "      <td>11</td>\n",
       "      <td>24</td>\n",
       "    </tr>\n",
       "    <tr>\n",
       "      <th>mmhHDA6eue</th>\n",
       "      <td>4</td>\n",
       "      <td>14</td>\n",
       "    </tr>\n",
       "    <tr>\n",
       "      <th>qk8kmns74p</th>\n",
       "      <td>3</td>\n",
       "      <td>6</td>\n",
       "    </tr>\n",
       "    <tr>\n",
       "      <th>tcYis3RLgY</th>\n",
       "      <td>19</td>\n",
       "      <td>33</td>\n",
       "    </tr>\n",
       "  </tbody>\n",
       "</table>\n",
       "</div>"
      ],
      "text/plain": [
       "                                                    gpt_3_nugget_count  \\\n",
       "condition age_group       conv_id                                        \n",
       "active    45 or older     2424a396                                   8   \n",
       "                          57272517e386b9000e3e2b72                   5   \n",
       "                          5ea196f089935b04d2ee69d9                  18   \n",
       "                          612517df29cd32c6632b4a44                  21   \n",
       "                          ABFwuoU                                   20   \n",
       "                          a9780bf6                                   6   \n",
       "                          c70f521                                    8   \n",
       "                          cegcgsG                                   21   \n",
       "                          ea5def48                                  12   \n",
       "                          ozf8rdojjw                                10   \n",
       "                          tLrorpH                                   47   \n",
       "          younger than 45 1vNO49Y                                   14   \n",
       "                          4f7f5758                                   4   \n",
       "                          5e45a7e926e79c000bc12a85                  21   \n",
       "                          5ed91d3f31d9c60a8ac27018                  11   \n",
       "                          8nJXjVjBTQ                                24   \n",
       "                          INfBowH                                   10   \n",
       "                          XYjHSL2Ky3                                13   \n",
       "                          eiRY3df7Aq                                18   \n",
       "                          j6iz4akqr2                                13   \n",
       "                          o9UbVjHVrS                                24   \n",
       "                          rEG2v4CE7m                                15   \n",
       "                          rfAHhxd                                   23   \n",
       "                          v684ge8cmo                                15   \n",
       "passive   45 or older     5c8d1bee1bb19f00019d519e                   6   \n",
       "                          7460a2a0                                  20   \n",
       "                          Fxikuau                                   13   \n",
       "                          KlOmIXe                                   11   \n",
       "                          LFiNVaQ                                   18   \n",
       "                          PPmiUbC                                   12   \n",
       "                          nRHLDUQ                                   11   \n",
       "                          pC0jYVl                                    4   \n",
       "                          sVzhG                                     13   \n",
       "                          xMKcudn                                    8   \n",
       "          younger than 45 2b71cb60                                   2   \n",
       "                          55b3120cfdf99b6ef6263a71                   9   \n",
       "                          577c065c9fecfe0001a5bcc7                   2   \n",
       "                          5fdbb3b4e66d7f061f78ea21                   1   \n",
       "                          608b0f7f4699c09aa348c57f                  22   \n",
       "                          60c48655811ab33a8f77dd34                  10   \n",
       "                          68942e2a                                   3   \n",
       "                          EioCaKa                                    5   \n",
       "                          bKBDfgUAa3                                 2   \n",
       "                          coe2XtNapn                                10   \n",
       "                          h8x8QLzyCx                                11   \n",
       "                          mmhHDA6eue                                 4   \n",
       "                          qk8kmns74p                                 3   \n",
       "                          tcYis3RLgY                                19   \n",
       "\n",
       "                                                    chat_gpt_nugget_count  \n",
       "condition age_group       conv_id                                          \n",
       "active    45 or older     2424a396                                     19  \n",
       "                          57272517e386b9000e3e2b72                     21  \n",
       "                          5ea196f089935b04d2ee69d9                     37  \n",
       "                          612517df29cd32c6632b4a44                     48  \n",
       "                          ABFwuoU                                      45  \n",
       "                          a9780bf6                                     55  \n",
       "                          c70f521                                      24  \n",
       "                          cegcgsG                                      55  \n",
       "                          ea5def48                                     42  \n",
       "                          ozf8rdojjw                                   31  \n",
       "                          tLrorpH                                      74  \n",
       "          younger than 45 1vNO49Y                                      50  \n",
       "                          4f7f5758                                     21  \n",
       "                          5e45a7e926e79c000bc12a85                     21  \n",
       "                          5ed91d3f31d9c60a8ac27018                     60  \n",
       "                          8nJXjVjBTQ                                   53  \n",
       "                          INfBowH                                      42  \n",
       "                          XYjHSL2Ky3                                   36  \n",
       "                          eiRY3df7Aq                                   52  \n",
       "                          j6iz4akqr2                                   24  \n",
       "                          o9UbVjHVrS                                   66  \n",
       "                          rEG2v4CE7m                                   46  \n",
       "                          rfAHhxd                                      65  \n",
       "                          v684ge8cmo                                   36  \n",
       "passive   45 or older     5c8d1bee1bb19f00019d519e                      9  \n",
       "                          7460a2a0                                     30  \n",
       "                          Fxikuau                                      13  \n",
       "                          KlOmIXe                                      15  \n",
       "                          LFiNVaQ                                      18  \n",
       "                          PPmiUbC                                      25  \n",
       "                          nRHLDUQ                                      19  \n",
       "                          pC0jYVl                                       9  \n",
       "                          sVzhG                                        28  \n",
       "                          xMKcudn                                      21  \n",
       "          younger than 45 2b71cb60                                      9  \n",
       "                          55b3120cfdf99b6ef6263a71                     34  \n",
       "                          577c065c9fecfe0001a5bcc7                      5  \n",
       "                          5fdbb3b4e66d7f061f78ea21                     12  \n",
       "                          608b0f7f4699c09aa348c57f                     34  \n",
       "                          60c48655811ab33a8f77dd34                     24  \n",
       "                          68942e2a                                     23  \n",
       "                          EioCaKa                                      15  \n",
       "                          bKBDfgUAa3                                    6  \n",
       "                          coe2XtNapn                                   25  \n",
       "                          h8x8QLzyCx                                   24  \n",
       "                          mmhHDA6eue                                   14  \n",
       "                          qk8kmns74p                                    6  \n",
       "                          tcYis3RLgY                                   33  "
      ]
     },
     "execution_count": 758,
     "metadata": {},
     "output_type": "execute_result"
    }
   ],
   "source": [
    "condition_conv_age_group = info_nuggets.groupby(['condition','age_group','conv_id']).sum()\n",
    "condition_conv_age_group"
   ]
  },
  {
   "cell_type": "code",
   "execution_count": 759,
   "id": "086cea0e-fbde-4626-8e2b-138af69a3f31",
   "metadata": {},
   "outputs": [
    {
     "data": {
      "text/html": [
       "<div>\n",
       "<style scoped>\n",
       "    .dataframe tbody tr th:only-of-type {\n",
       "        vertical-align: middle;\n",
       "    }\n",
       "\n",
       "    .dataframe tbody tr th {\n",
       "        vertical-align: top;\n",
       "    }\n",
       "\n",
       "    .dataframe thead th {\n",
       "        text-align: right;\n",
       "    }\n",
       "</style>\n",
       "<table border=\"1\" class=\"dataframe\">\n",
       "  <thead>\n",
       "    <tr style=\"text-align: right;\">\n",
       "      <th></th>\n",
       "      <th>count</th>\n",
       "      <th>mean</th>\n",
       "      <th>std</th>\n",
       "      <th>min</th>\n",
       "      <th>25%</th>\n",
       "      <th>50%</th>\n",
       "      <th>75%</th>\n",
       "      <th>max</th>\n",
       "    </tr>\n",
       "    <tr>\n",
       "      <th>age_group</th>\n",
       "      <th></th>\n",
       "      <th></th>\n",
       "      <th></th>\n",
       "      <th></th>\n",
       "      <th></th>\n",
       "      <th></th>\n",
       "      <th></th>\n",
       "      <th></th>\n",
       "    </tr>\n",
       "  </thead>\n",
       "  <tbody>\n",
       "    <tr>\n",
       "      <th>45 or older</th>\n",
       "      <td>21.0</td>\n",
       "      <td>13.904762</td>\n",
       "      <td>9.358978</td>\n",
       "      <td>4.0</td>\n",
       "      <td>8.0</td>\n",
       "      <td>12.0</td>\n",
       "      <td>18.0</td>\n",
       "      <td>47.0</td>\n",
       "    </tr>\n",
       "    <tr>\n",
       "      <th>younger than 45</th>\n",
       "      <td>27.0</td>\n",
       "      <td>11.407407</td>\n",
       "      <td>7.525645</td>\n",
       "      <td>1.0</td>\n",
       "      <td>4.0</td>\n",
       "      <td>11.0</td>\n",
       "      <td>16.5</td>\n",
       "      <td>24.0</td>\n",
       "    </tr>\n",
       "  </tbody>\n",
       "</table>\n",
       "</div>"
      ],
      "text/plain": [
       "                 count       mean       std  min  25%   50%   75%   max\n",
       "age_group                                                              \n",
       "45 or older       21.0  13.904762  9.358978  4.0  8.0  12.0  18.0  47.0\n",
       "younger than 45   27.0  11.407407  7.525645  1.0  4.0  11.0  16.5  24.0"
      ]
     },
     "execution_count": 759,
     "metadata": {},
     "output_type": "execute_result"
    }
   ],
   "source": [
    "condition_conv_age_group.groupby(['age_group'])['gpt_3_nugget_count'].describe()"
   ]
  },
  {
   "cell_type": "code",
   "execution_count": 760,
   "id": "1a0db96b-662d-47cc-95fc-bbd5bde5667a",
   "metadata": {},
   "outputs": [
    {
     "data": {
      "text/html": [
       "<div>\n",
       "<style scoped>\n",
       "    .dataframe tbody tr th:only-of-type {\n",
       "        vertical-align: middle;\n",
       "    }\n",
       "\n",
       "    .dataframe tbody tr th {\n",
       "        vertical-align: top;\n",
       "    }\n",
       "\n",
       "    .dataframe thead th {\n",
       "        text-align: right;\n",
       "    }\n",
       "</style>\n",
       "<table border=\"1\" class=\"dataframe\">\n",
       "  <thead>\n",
       "    <tr style=\"text-align: right;\">\n",
       "      <th></th>\n",
       "      <th></th>\n",
       "      <th>count</th>\n",
       "      <th>mean</th>\n",
       "      <th>std</th>\n",
       "      <th>min</th>\n",
       "      <th>25%</th>\n",
       "      <th>50%</th>\n",
       "      <th>75%</th>\n",
       "      <th>max</th>\n",
       "    </tr>\n",
       "    <tr>\n",
       "      <th>condition</th>\n",
       "      <th>age_group</th>\n",
       "      <th></th>\n",
       "      <th></th>\n",
       "      <th></th>\n",
       "      <th></th>\n",
       "      <th></th>\n",
       "      <th></th>\n",
       "      <th></th>\n",
       "      <th></th>\n",
       "    </tr>\n",
       "  </thead>\n",
       "  <tbody>\n",
       "    <tr>\n",
       "      <th rowspan=\"2\" valign=\"top\">active</th>\n",
       "      <th>45 or older</th>\n",
       "      <td>11.0</td>\n",
       "      <td>16.000000</td>\n",
       "      <td>11.966620</td>\n",
       "      <td>5.0</td>\n",
       "      <td>8.00</td>\n",
       "      <td>12.0</td>\n",
       "      <td>20.5</td>\n",
       "      <td>47.0</td>\n",
       "    </tr>\n",
       "    <tr>\n",
       "      <th>younger than 45</th>\n",
       "      <td>13.0</td>\n",
       "      <td>15.769231</td>\n",
       "      <td>6.016004</td>\n",
       "      <td>4.0</td>\n",
       "      <td>13.00</td>\n",
       "      <td>15.0</td>\n",
       "      <td>21.0</td>\n",
       "      <td>24.0</td>\n",
       "    </tr>\n",
       "    <tr>\n",
       "      <th rowspan=\"2\" valign=\"top\">passive</th>\n",
       "      <th>45 or older</th>\n",
       "      <td>10.0</td>\n",
       "      <td>11.600000</td>\n",
       "      <td>4.926121</td>\n",
       "      <td>4.0</td>\n",
       "      <td>8.75</td>\n",
       "      <td>11.5</td>\n",
       "      <td>13.0</td>\n",
       "      <td>20.0</td>\n",
       "    </tr>\n",
       "    <tr>\n",
       "      <th>younger than 45</th>\n",
       "      <td>14.0</td>\n",
       "      <td>7.357143</td>\n",
       "      <td>6.570413</td>\n",
       "      <td>1.0</td>\n",
       "      <td>2.25</td>\n",
       "      <td>4.5</td>\n",
       "      <td>10.0</td>\n",
       "      <td>22.0</td>\n",
       "    </tr>\n",
       "  </tbody>\n",
       "</table>\n",
       "</div>"
      ],
      "text/plain": [
       "                           count       mean        std  min    25%   50%  \\\n",
       "condition age_group                                                        \n",
       "active    45 or older       11.0  16.000000  11.966620  5.0   8.00  12.0   \n",
       "          younger than 45   13.0  15.769231   6.016004  4.0  13.00  15.0   \n",
       "passive   45 or older       10.0  11.600000   4.926121  4.0   8.75  11.5   \n",
       "          younger than 45   14.0   7.357143   6.570413  1.0   2.25   4.5   \n",
       "\n",
       "                            75%   max  \n",
       "condition age_group                    \n",
       "active    45 or older      20.5  47.0  \n",
       "          younger than 45  21.0  24.0  \n",
       "passive   45 or older      13.0  20.0  \n",
       "          younger than 45  10.0  22.0  "
      ]
     },
     "execution_count": 760,
     "metadata": {},
     "output_type": "execute_result"
    }
   ],
   "source": [
    "condition_conv_age_group.groupby(['condition','age_group'])['gpt_3_nugget_count'].describe()"
   ]
  },
  {
   "cell_type": "code",
   "execution_count": 761,
   "id": "96221fdb-64a7-4e11-b7af-435014ecbb44",
   "metadata": {},
   "outputs": [
    {
     "data": {
      "text/plain": [
       "<AxesSubplot: title={'center': 'gpt_3_nugget_count'}, xlabel='age_group'>"
      ]
     },
     "execution_count": 761,
     "metadata": {},
     "output_type": "execute_result"
    },
    {
     "data": {
      "image/png": "[encoded data removed]",
      "text/plain": [
       "<Figure size 640x480 with 1 Axes>"
      ]
     },
     "metadata": {},
     "output_type": "display_data"
    }
   ],
   "source": [
    "condition_conv_age_group.boxplot(column=\"gpt_3_nugget_count\", by=\"age_group\")"
   ]
  },
  {
   "cell_type": "code",
   "execution_count": 762,
   "id": "81b12b54-68e1-4ab1-b74b-9bc95ff9bb76",
   "metadata": {},
   "outputs": [
    {
     "data": {
      "text/html": [
       "<div>\n",
       "<style scoped>\n",
       "    .dataframe tbody tr th:only-of-type {\n",
       "        vertical-align: middle;\n",
       "    }\n",
       "\n",
       "    .dataframe tbody tr th {\n",
       "        vertical-align: top;\n",
       "    }\n",
       "\n",
       "    .dataframe thead th {\n",
       "        text-align: right;\n",
       "    }\n",
       "</style>\n",
       "<table border=\"1\" class=\"dataframe\">\n",
       "  <thead>\n",
       "    <tr style=\"text-align: right;\">\n",
       "      <th></th>\n",
       "      <th>55-64</th>\n",
       "      <th>65-74</th>\n",
       "      <th>45-54</th>\n",
       "      <th>35-44</th>\n",
       "      <th>25-34</th>\n",
       "      <th>18-24</th>\n",
       "    </tr>\n",
       "  </thead>\n",
       "  <tbody>\n",
       "    <tr>\n",
       "      <th>55-64</th>\n",
       "      <td>1.000000</td>\n",
       "      <td>0.729519</td>\n",
       "      <td>1.000000</td>\n",
       "      <td>1.0</td>\n",
       "      <td>1.0</td>\n",
       "      <td>1.0</td>\n",
       "    </tr>\n",
       "    <tr>\n",
       "      <th>65-74</th>\n",
       "      <td>0.729519</td>\n",
       "      <td>1.000000</td>\n",
       "      <td>0.860455</td>\n",
       "      <td>1.0</td>\n",
       "      <td>1.0</td>\n",
       "      <td>1.0</td>\n",
       "    </tr>\n",
       "    <tr>\n",
       "      <th>45-54</th>\n",
       "      <td>1.000000</td>\n",
       "      <td>0.860455</td>\n",
       "      <td>1.000000</td>\n",
       "      <td>1.0</td>\n",
       "      <td>1.0</td>\n",
       "      <td>1.0</td>\n",
       "    </tr>\n",
       "    <tr>\n",
       "      <th>35-44</th>\n",
       "      <td>1.000000</td>\n",
       "      <td>1.000000</td>\n",
       "      <td>1.000000</td>\n",
       "      <td>1.0</td>\n",
       "      <td>1.0</td>\n",
       "      <td>1.0</td>\n",
       "    </tr>\n",
       "    <tr>\n",
       "      <th>25-34</th>\n",
       "      <td>1.000000</td>\n",
       "      <td>1.000000</td>\n",
       "      <td>1.000000</td>\n",
       "      <td>1.0</td>\n",
       "      <td>1.0</td>\n",
       "      <td>1.0</td>\n",
       "    </tr>\n",
       "    <tr>\n",
       "      <th>18-24</th>\n",
       "      <td>1.000000</td>\n",
       "      <td>1.000000</td>\n",
       "      <td>1.000000</td>\n",
       "      <td>1.0</td>\n",
       "      <td>1.0</td>\n",
       "      <td>1.0</td>\n",
       "    </tr>\n",
       "  </tbody>\n",
       "</table>\n",
       "</div>"
      ],
      "text/plain": [
       "          55-64     65-74     45-54  35-44  25-34  18-24\n",
       "55-64  1.000000  0.729519  1.000000    1.0    1.0    1.0\n",
       "65-74  0.729519  1.000000  0.860455    1.0    1.0    1.0\n",
       "45-54  1.000000  0.860455  1.000000    1.0    1.0    1.0\n",
       "35-44  1.000000  1.000000  1.000000    1.0    1.0    1.0\n",
       "25-34  1.000000  1.000000  1.000000    1.0    1.0    1.0\n",
       "18-24  1.000000  1.000000  1.000000    1.0    1.0    1.0"
      ]
     },
     "execution_count": 762,
     "metadata": {},
     "output_type": "execute_result"
    }
   ],
   "source": [
    "age_posthoc = sp.posthoc_ttest(info_nuggets,\n",
    "                                 val_col='gpt_3_nugget_count',\n",
    "                                 group_col='age',\n",
    "                                 p_adjust='bonferroni')\n",
    "age_posthoc"
   ]
  },
  {
   "cell_type": "code",
   "execution_count": 763,
   "id": "35efec4f-a352-4292-a6b3-b084b3ec3c79",
   "metadata": {},
   "outputs": [
    {
     "data": {
      "text/html": [
       "<div>\n",
       "<style scoped>\n",
       "    .dataframe tbody tr th:only-of-type {\n",
       "        vertical-align: middle;\n",
       "    }\n",
       "\n",
       "    .dataframe tbody tr th {\n",
       "        vertical-align: top;\n",
       "    }\n",
       "\n",
       "    .dataframe thead th {\n",
       "        text-align: right;\n",
       "    }\n",
       "</style>\n",
       "<table border=\"1\" class=\"dataframe\">\n",
       "  <thead>\n",
       "    <tr style=\"text-align: right;\">\n",
       "      <th></th>\n",
       "      <th>45 or older</th>\n",
       "      <th>younger than 45</th>\n",
       "    </tr>\n",
       "  </thead>\n",
       "  <tbody>\n",
       "    <tr>\n",
       "      <th>45 or older</th>\n",
       "      <td>1.000000</td>\n",
       "      <td>0.053579</td>\n",
       "    </tr>\n",
       "    <tr>\n",
       "      <th>younger than 45</th>\n",
       "      <td>0.053579</td>\n",
       "      <td>1.000000</td>\n",
       "    </tr>\n",
       "  </tbody>\n",
       "</table>\n",
       "</div>"
      ],
      "text/plain": [
       "                 45 or older  younger than 45\n",
       "45 or older         1.000000         0.053579\n",
       "younger than 45     0.053579         1.000000"
      ]
     },
     "execution_count": 763,
     "metadata": {},
     "output_type": "execute_result"
    }
   ],
   "source": [
    "condition_posthoc = sp.posthoc_ttest(info_nuggets,\n",
    "                                     val_col='gpt_3_nugget_count',\n",
    "                                     group_col='age_group',\n",
    "                                     p_adjust='bonferroni')\n",
    "condition_posthoc"
   ]
  },
  {
   "cell_type": "code",
   "execution_count": 764,
   "id": "d777a307-ed66-4c30-921c-36da5372b618",
   "metadata": {},
   "outputs": [
    {
     "data": {
      "text/plain": [
       "MannwhitneyuResult(statistic=248.0, pvalue=0.23314742469983363)"
      ]
     },
     "execution_count": 764,
     "metadata": {},
     "output_type": "execute_result"
    }
   ],
   "source": [
    "stats.mannwhitneyu(condition_conv_age_group.groupby('age_group').get_group('45 or older')[\"gpt_3_nugget_count\"], \n",
    "                condition_conv_age_group.groupby('age_group').get_group('younger than 45')[\"gpt_3_nugget_count\"])\n"
   ]
  },
  {
   "cell_type": "code",
   "execution_count": 765,
   "id": "0e6b0f6e-409c-41df-84f5-006787fbcac2",
   "metadata": {
    "tags": []
   },
   "outputs": [
    {
     "data": {
      "text/plain": [
       "MannwhitneyuResult(statistic=58.0, pvalue=0.2251791581349581)"
      ]
     },
     "execution_count": 765,
     "metadata": {},
     "output_type": "execute_result"
    }
   ],
   "source": [
    "stats.mannwhitneyu(condition_conv_age_group.groupby(['condition','age_group']).get_group(('active', '45 or older'))[\"gpt_3_nugget_count\"], \n",
    "                condition_conv_age_group.groupby(['condition','age_group']).get_group(('active', 'younger than 45'))[\"gpt_3_nugget_count\"])\n"
   ]
  },
  {
   "cell_type": "code",
   "execution_count": 766,
   "id": "23b36484-4bb0-46b9-979b-032e9c8dc7c7",
   "metadata": {},
   "outputs": [
    {
     "data": {
      "text/plain": [
       "MannwhitneyuResult(statistic=33.5, pvalue=0.017280504334956044)"
      ]
     },
     "execution_count": 766,
     "metadata": {},
     "output_type": "execute_result"
    }
   ],
   "source": [
    "stats.mannwhitneyu(condition_conv_age_group.groupby(['condition','age_group']).get_group(('passive', '45 or older'))[\"gpt_3_nugget_count\"], \n",
    "                condition_conv_age_group.groupby(['condition','age_group']).get_group(('passive', 'younger than 45'))[\"gpt_3_nugget_count\"])\n"
   ]
  },
  {
   "cell_type": "markdown",
   "id": "ffc4c7b0-dcc3-40fa-9b4c-4e6d1b974b88",
   "metadata": {},
   "source": [
    "The age group analysis revealed that overall there are no significant differences. However, in passive conversations, more information nuggets are conveyed for people `>45` (`p<.05`)."
   ]
  },
  {
   "cell_type": "markdown",
   "id": "2b3dbeb9-99a2-4999-a166-5e73121bd02a",
   "metadata": {},
   "source": [
    "## 4. How many information nuggets are communicated in response to different information needs?"
   ]
  },
  {
   "cell_type": "markdown",
   "id": "bfcbd94d-f40f-42d6-a53d-dd3f455d48e2",
   "metadata": {},
   "source": [
    "### 4.1 Calculate the amount of information needs in user utterances"
   ]
  },
  {
   "cell_type": "markdown",
   "id": "92457621-eaef-4fdd-ac05-e1f98900f846",
   "metadata": {},
   "source": [
    "**Step 1**: Import the file that contains the parent ids and the associated information needs."
   ]
  },
  {
   "cell_type": "code",
   "execution_count": 789,
   "id": "02ff3a97-da27-4ad5-a5b6-78d93753be6a",
   "metadata": {},
   "outputs": [],
   "source": [
    "def add_high_level_info_need_type(info_need_type):\n",
    "    if info_need_type == \"knowledge\":\n",
    "        return \"knowledge\"\n",
    "    elif pd.isna(info_need_type):        \n",
    "        return None\n",
    "    elif info_need_type.strip()=='':\n",
    "        return None\n",
    "    else:\n",
    "        return \"process\""
   ]
  },
  {
   "cell_type": "code",
   "execution_count": 850,
   "id": "a4b74a39-ed98-40db-8bd8-6c5649075fb6",
   "metadata": {},
   "outputs": [
    {
     "data": {
      "text/html": [
       "<div>\n",
       "<style scoped>\n",
       "    .dataframe tbody tr th:only-of-type {\n",
       "        vertical-align: middle;\n",
       "    }\n",
       "\n",
       "    .dataframe tbody tr th {\n",
       "        vertical-align: top;\n",
       "    }\n",
       "\n",
       "    .dataframe thead th {\n",
       "        text-align: right;\n",
       "    }\n",
       "</style>\n",
       "<table border=\"1\" class=\"dataframe\">\n",
       "  <thead>\n",
       "    <tr style=\"text-align: right;\">\n",
       "      <th></th>\n",
       "      <th>conversation_id</th>\n",
       "      <th>condition</th>\n",
       "      <th>participant_gender</th>\n",
       "      <th>participant_age</th>\n",
       "      <th>utterance_id</th>\n",
       "      <th>parent_id</th>\n",
       "      <th>parent_info_need</th>\n",
       "      <th>parent_info_need_subtype</th>\n",
       "      <th>parent_text</th>\n",
       "      <th>utterance_text</th>\n",
       "      <th>...</th>\n",
       "      <th>info_need_subtype</th>\n",
       "      <th>nugget_1</th>\n",
       "      <th>nugget_2</th>\n",
       "      <th>nugget_3</th>\n",
       "      <th>excel_how_to</th>\n",
       "      <th>excel_recipe</th>\n",
       "      <th>wikipedia</th>\n",
       "      <th>serious_eats</th>\n",
       "      <th>stack_excahnge</th>\n",
       "      <th>overall_info_need_type</th>\n",
       "    </tr>\n",
       "  </thead>\n",
       "  <tbody>\n",
       "    <tr>\n",
       "      <th>0</th>\n",
       "      <td>o9UbVjHVrS</td>\n",
       "      <td>active</td>\n",
       "      <td>female</td>\n",
       "      <td>25-34</td>\n",
       "      <td>-NBM4Po72yJo9OVy-leY</td>\n",
       "      <td></td>\n",
       "      <td></td>\n",
       "      <td></td>\n",
       "      <td></td>\n",
       "      <td>Hey there! Happy to have you on board for our ...</td>\n",
       "      <td>...</td>\n",
       "      <td>NaN</td>\n",
       "      <td>0</td>\n",
       "      <td>3</td>\n",
       "      <td>3</td>\n",
       "      <td>0</td>\n",
       "      <td>0</td>\n",
       "      <td>0</td>\n",
       "      <td>0</td>\n",
       "      <td>0</td>\n",
       "      <td>None</td>\n",
       "    </tr>\n",
       "    <tr>\n",
       "      <th>1</th>\n",
       "      <td>o9UbVjHVrS</td>\n",
       "      <td>active</td>\n",
       "      <td>female</td>\n",
       "      <td>25-34</td>\n",
       "      <td>-NBM4Vc_a2KIh2KpZR27</td>\n",
       "      <td></td>\n",
       "      <td></td>\n",
       "      <td></td>\n",
       "      <td></td>\n",
       "      <td>Hello.  How can I help you? :)</td>\n",
       "      <td>...</td>\n",
       "      <td>NaN</td>\n",
       "      <td>0</td>\n",
       "      <td>0</td>\n",
       "      <td>0. There are no factual statements or informat...</td>\n",
       "      <td>0</td>\n",
       "      <td>0</td>\n",
       "      <td>0</td>\n",
       "      <td>0</td>\n",
       "      <td>0</td>\n",
       "      <td>None</td>\n",
       "    </tr>\n",
       "    <tr>\n",
       "      <th>2</th>\n",
       "      <td>o9UbVjHVrS</td>\n",
       "      <td>active</td>\n",
       "      <td>female</td>\n",
       "      <td>25-34</td>\n",
       "      <td>-NBM4ihrwHLmCiybGdRW</td>\n",
       "      <td>-NBM4d-O2nP6qoZ2zi-G</td>\n",
       "      <td>preparation</td>\n",
       "      <td>NaN</td>\n",
       "      <td>ok, what's the first step?</td>\n",
       "      <td>I'll show you</td>\n",
       "      <td>...</td>\n",
       "      <td>NaN</td>\n",
       "      <td>0</td>\n",
       "      <td>0</td>\n",
       "      <td>0</td>\n",
       "      <td>0</td>\n",
       "      <td>0</td>\n",
       "      <td>0</td>\n",
       "      <td>0</td>\n",
       "      <td>0</td>\n",
       "      <td>process</td>\n",
       "    </tr>\n",
       "    <tr>\n",
       "      <th>3</th>\n",
       "      <td>o9UbVjHVrS</td>\n",
       "      <td>active</td>\n",
       "      <td>female</td>\n",
       "      <td>25-34</td>\n",
       "      <td>-NBM4qPJT1_OQMboWpmm</td>\n",
       "      <td>-NBM4d-O2nP6qoZ2zi-G</td>\n",
       "      <td>preparation</td>\n",
       "      <td>NaN</td>\n",
       "      <td>ok, what's the first step?</td>\n",
       "      <td>Do you see it already?</td>\n",
       "      <td>...</td>\n",
       "      <td>NaN</td>\n",
       "      <td>0</td>\n",
       "      <td>0</td>\n",
       "      <td>0 (There are no facts stated in this text. It ...</td>\n",
       "      <td>0</td>\n",
       "      <td>0</td>\n",
       "      <td>0</td>\n",
       "      <td>0</td>\n",
       "      <td>0</td>\n",
       "      <td>process</td>\n",
       "    </tr>\n",
       "    <tr>\n",
       "      <th>4</th>\n",
       "      <td>o9UbVjHVrS</td>\n",
       "      <td>active</td>\n",
       "      <td>female</td>\n",
       "      <td>25-34</td>\n",
       "      <td>-NBM4yU-HWgg2zpxsoey</td>\n",
       "      <td>-NBM4uO8I7-lL_ppa5pr</td>\n",
       "      <td>NaN</td>\n",
       "      <td>NaN</td>\n",
       "      <td>I don't see anything? sorry</td>\n",
       "      <td>Alright so this is what you need to do first:C...</td>\n",
       "      <td>...</td>\n",
       "      <td>NaN</td>\n",
       "      <td>0</td>\n",
       "      <td>1</td>\n",
       "      <td>There is only one fact in the text: the ingred...</td>\n",
       "      <td>0</td>\n",
       "      <td>1</td>\n",
       "      <td>0</td>\n",
       "      <td>0</td>\n",
       "      <td>0</td>\n",
       "      <td>None</td>\n",
       "    </tr>\n",
       "  </tbody>\n",
       "</table>\n",
       "<p>5 rows × 21 columns</p>\n",
       "</div>"
      ],
      "text/plain": [
       "  conversation_id condition participant_gender participant_age  \\\n",
       "0      o9UbVjHVrS    active             female           25-34   \n",
       "1      o9UbVjHVrS    active             female           25-34   \n",
       "2      o9UbVjHVrS    active             female           25-34   \n",
       "3      o9UbVjHVrS    active             female           25-34   \n",
       "4      o9UbVjHVrS    active             female           25-34   \n",
       "\n",
       "           utterance_id             parent_id parent_info_need  \\\n",
       "0  -NBM4Po72yJo9OVy-leY                                          \n",
       "1  -NBM4Vc_a2KIh2KpZR27                                          \n",
       "2  -NBM4ihrwHLmCiybGdRW  -NBM4d-O2nP6qoZ2zi-G      preparation   \n",
       "3  -NBM4qPJT1_OQMboWpmm  -NBM4d-O2nP6qoZ2zi-G      preparation   \n",
       "4  -NBM4yU-HWgg2zpxsoey  -NBM4uO8I7-lL_ppa5pr              NaN   \n",
       "\n",
       "  parent_info_need_subtype                  parent_text  \\\n",
       "0                                                         \n",
       "1                                                         \n",
       "2                      NaN   ok, what's the first step?   \n",
       "3                      NaN   ok, what's the first step?   \n",
       "4                      NaN  I don't see anything? sorry   \n",
       "\n",
       "                                      utterance_text  ... info_need_subtype  \\\n",
       "0  Hey there! Happy to have you on board for our ...  ...               NaN   \n",
       "1                     Hello.  How can I help you? :)  ...               NaN   \n",
       "2                                      I'll show you  ...               NaN   \n",
       "3                             Do you see it already?  ...               NaN   \n",
       "4  Alright so this is what you need to do first:C...  ...               NaN   \n",
       "\n",
       "  nugget_1  nugget_2                                           nugget_3  \\\n",
       "0        0         3                                                  3   \n",
       "1        0         0  0. There are no factual statements or informat...   \n",
       "2        0         0                                                  0   \n",
       "3        0         0  0 (There are no facts stated in this text. It ...   \n",
       "4        0         1  There is only one fact in the text: the ingred...   \n",
       "\n",
       "  excel_how_to  excel_recipe  wikipedia  serious_eats  stack_excahnge  \\\n",
       "0            0             0          0             0               0   \n",
       "1            0             0          0             0               0   \n",
       "2            0             0          0             0               0   \n",
       "3            0             0          0             0               0   \n",
       "4            0             1          0             0               0   \n",
       "\n",
       "   overall_info_need_type  \n",
       "0                    None  \n",
       "1                    None  \n",
       "2                 process  \n",
       "3                 process  \n",
       "4                    None  \n",
       "\n",
       "[5 rows x 21 columns]"
      ]
     },
     "execution_count": 850,
     "metadata": {},
     "output_type": "execute_result"
    }
   ],
   "source": [
    "info_nuggets_parent_children = pd.read_csv(\"data_nugget_analysis/woz_data_analysis_files/final_info_nuggets_parent_children.tsv\",\n",
    "                                          delimiter=\"\\t\", index_col=False, dtype={'stack_excahnge':int})\n",
    "info_nuggets_parent_children['overall_info_need_type'] = info_nuggets_parent_children['parent_info_need'].map(add_high_level_info_need_type)\n",
    "info_nuggets_parent_children['parent_info_need_subtype'] = info_nuggets_parent_children['parent_info_need_subtype'].replace('science_knowledge','science')\n",
    "info_nuggets_parent_children.head(5)                                         "
   ]
  },
  {
   "cell_type": "code",
   "execution_count": 851,
   "id": "7cc7a69e-9670-40a8-a5a8-22e939cff097",
   "metadata": {},
   "outputs": [],
   "source": [
    "from scipy.stats import chi2_contingency\n"
   ]
  },
  {
   "cell_type": "code",
   "execution_count": 852,
   "id": "2cd467d8-d177-4180-a563-07aea2414109",
   "metadata": {},
   "outputs": [],
   "source": [
    "chi2_test_table = info_nuggets_parent_children[info_nuggets_parent_children[\"overall_info_need_type\"].notnull()]"
   ]
  },
  {
   "cell_type": "code",
   "execution_count": 853,
   "id": "44492f06-8f7e-4107-960a-7fdf3054e28e",
   "metadata": {},
   "outputs": [
    {
     "data": {
      "text/plain": [
       "(21.35779538523764, 3.810681199515849e-06)"
      ]
     },
     "execution_count": 853,
     "metadata": {},
     "output_type": "execute_result"
    }
   ],
   "source": [
    "# Create a contingency table of frequencies\n",
    "cont_table = pd.crosstab(chi2_test_table['condition'], chi2_test_table['overall_info_need_type'])\n",
    "\n",
    "# Perform the chi-square test of independence\n",
    "chi2, pval, dof, exp_freq = chi2_contingency(cont_table)\n",
    "chi2, pval"
   ]
  },
  {
   "cell_type": "code",
   "execution_count": 854,
   "id": "23bd0d71-f4c4-4248-b277-a79b6a25f2f8",
   "metadata": {},
   "outputs": [
    {
     "data": {
      "text/html": [
       "<div>\n",
       "<style scoped>\n",
       "    .dataframe tbody tr th:only-of-type {\n",
       "        vertical-align: middle;\n",
       "    }\n",
       "\n",
       "    .dataframe tbody tr th {\n",
       "        vertical-align: top;\n",
       "    }\n",
       "\n",
       "    .dataframe thead th {\n",
       "        text-align: right;\n",
       "    }\n",
       "</style>\n",
       "<table border=\"1\" class=\"dataframe\">\n",
       "  <thead>\n",
       "    <tr style=\"text-align: right;\">\n",
       "      <th>overall_info_need_type</th>\n",
       "      <th>knowledge</th>\n",
       "      <th>process</th>\n",
       "    </tr>\n",
       "    <tr>\n",
       "      <th>condition</th>\n",
       "      <th></th>\n",
       "      <th></th>\n",
       "    </tr>\n",
       "  </thead>\n",
       "  <tbody>\n",
       "    <tr>\n",
       "      <th>active</th>\n",
       "      <td>223</td>\n",
       "      <td>295</td>\n",
       "    </tr>\n",
       "    <tr>\n",
       "      <th>passive</th>\n",
       "      <td>83</td>\n",
       "      <td>227</td>\n",
       "    </tr>\n",
       "  </tbody>\n",
       "</table>\n",
       "</div>"
      ],
      "text/plain": [
       "overall_info_need_type  knowledge  process\n",
       "condition                                 \n",
       "active                        223      295\n",
       "passive                        83      227"
      ]
     },
     "execution_count": 854,
     "metadata": {},
     "output_type": "execute_result"
    }
   ],
   "source": [
    "cont_table"
   ]
  },
  {
   "cell_type": "code",
   "execution_count": 855,
   "id": "8371f4cb-f781-4332-b0a5-76a00901486e",
   "metadata": {},
   "outputs": [],
   "source": [
    "active_data = {'amount': 11,\n",
    " 'cooking_technique': 25,\n",
    " 'equipment': 18,\n",
    " 'ingredient': 45,\n",
    " 'knowledge': 117,\n",
    " 'meal': 3,\n",
    " 'preparation': 60,\n",
    " 'recipe': 7,\n",
    " 'temperature': 7,\n",
    " 'time': 16}\n",
    "\n",
    "passive_data = {'amount': 10,\n",
    " 'cooking_technique': 16,\n",
    " 'equipment': 13,\n",
    " 'ingredient': 40,\n",
    " 'knowledge': 53,\n",
    " 'meal': 7,\n",
    " 'misc': 2,\n",
    " 'preparation': 47,\n",
    " 'recipe': 6,\n",
    " 'temperature': 2,\n",
    " 'time': 15}\n",
    "\n",
    "knowledge_active_data = {'equipment': 6,\n",
    " 'history': 20,\n",
    " 'image': 1,\n",
    " 'ingredient': 7,\n",
    " 'picture': 1,\n",
    " 'recipe': 1,\n",
    " 'science': 40,\n",
    " 'step_importance': 41,\n",
    " 'temperature': 1,\n",
    " 'time': 1,\n",
    " 'video': 8,\n",
    " 'visual': 1}\n",
    "\n",
    "knowledge_passive_data = {'equipment': 4,\n",
    " 'history': 21,\n",
    " 'image': 7,\n",
    " 'picture': 5,\n",
    " 'recipe': 1,\n",
    " 'science': 8,\n",
    " 'step_importance': 19,\n",
    " 'video': 14,\n",
    " 'visual': 2}"
   ]
  },
  {
   "cell_type": "code",
   "execution_count": 856,
   "id": "c18e2ad9-a671-4b33-ab26-e410647ab318",
   "metadata": {},
   "outputs": [
    {
     "data": {
      "text/html": [
       "<div>\n",
       "<style scoped>\n",
       "    .dataframe tbody tr th:only-of-type {\n",
       "        vertical-align: middle;\n",
       "    }\n",
       "\n",
       "    .dataframe tbody tr th {\n",
       "        vertical-align: top;\n",
       "    }\n",
       "\n",
       "    .dataframe thead th {\n",
       "        text-align: right;\n",
       "    }\n",
       "</style>\n",
       "<table border=\"1\" class=\"dataframe\">\n",
       "  <thead>\n",
       "    <tr style=\"text-align: right;\">\n",
       "      <th></th>\n",
       "      <th>info_need</th>\n",
       "      <th>count</th>\n",
       "      <th>overall_info_need_type</th>\n",
       "    </tr>\n",
       "  </thead>\n",
       "  <tbody>\n",
       "    <tr>\n",
       "      <th>0</th>\n",
       "      <td>amount</td>\n",
       "      <td>11</td>\n",
       "      <td>process</td>\n",
       "    </tr>\n",
       "    <tr>\n",
       "      <th>1</th>\n",
       "      <td>cooking_technique</td>\n",
       "      <td>25</td>\n",
       "      <td>process</td>\n",
       "    </tr>\n",
       "    <tr>\n",
       "      <th>2</th>\n",
       "      <td>equipment</td>\n",
       "      <td>18</td>\n",
       "      <td>process</td>\n",
       "    </tr>\n",
       "    <tr>\n",
       "      <th>3</th>\n",
       "      <td>ingredient</td>\n",
       "      <td>45</td>\n",
       "      <td>process</td>\n",
       "    </tr>\n",
       "    <tr>\n",
       "      <th>4</th>\n",
       "      <td>knowledge</td>\n",
       "      <td>117</td>\n",
       "      <td>knowledge</td>\n",
       "    </tr>\n",
       "    <tr>\n",
       "      <th>5</th>\n",
       "      <td>meal</td>\n",
       "      <td>3</td>\n",
       "      <td>process</td>\n",
       "    </tr>\n",
       "    <tr>\n",
       "      <th>6</th>\n",
       "      <td>preparation</td>\n",
       "      <td>60</td>\n",
       "      <td>process</td>\n",
       "    </tr>\n",
       "    <tr>\n",
       "      <th>7</th>\n",
       "      <td>recipe</td>\n",
       "      <td>7</td>\n",
       "      <td>process</td>\n",
       "    </tr>\n",
       "    <tr>\n",
       "      <th>8</th>\n",
       "      <td>temperature</td>\n",
       "      <td>7</td>\n",
       "      <td>process</td>\n",
       "    </tr>\n",
       "    <tr>\n",
       "      <th>9</th>\n",
       "      <td>time</td>\n",
       "      <td>16</td>\n",
       "      <td>process</td>\n",
       "    </tr>\n",
       "  </tbody>\n",
       "</table>\n",
       "</div>"
      ],
      "text/plain": [
       "           info_need  count overall_info_need_type\n",
       "0             amount     11                process\n",
       "1  cooking_technique     25                process\n",
       "2          equipment     18                process\n",
       "3         ingredient     45                process\n",
       "4          knowledge    117              knowledge\n",
       "5               meal      3                process\n",
       "6        preparation     60                process\n",
       "7             recipe      7                process\n",
       "8        temperature      7                process\n",
       "9               time     16                process"
      ]
     },
     "execution_count": 856,
     "metadata": {},
     "output_type": "execute_result"
    }
   ],
   "source": [
    "active_info_need_counts = pd.DataFrame(list(active_data.items()), columns=['info_need', 'count'])\n",
    "active_info_need_counts['overall_info_need_type'] = active_info_need_counts['info_need'].map(add_high_level_info_need_type)\n",
    "active_info_need_counts\n"
   ]
  },
  {
   "cell_type": "code",
   "execution_count": 857,
   "id": "3c42983b-fb61-4a78-a660-428bfcb773ce",
   "metadata": {},
   "outputs": [
    {
     "data": {
      "text/html": [
       "<div>\n",
       "<style scoped>\n",
       "    .dataframe tbody tr th:only-of-type {\n",
       "        vertical-align: middle;\n",
       "    }\n",
       "\n",
       "    .dataframe tbody tr th {\n",
       "        vertical-align: top;\n",
       "    }\n",
       "\n",
       "    .dataframe thead th {\n",
       "        text-align: right;\n",
       "    }\n",
       "</style>\n",
       "<table border=\"1\" class=\"dataframe\">\n",
       "  <thead>\n",
       "    <tr style=\"text-align: right;\">\n",
       "      <th></th>\n",
       "      <th>info_need</th>\n",
       "      <th>count</th>\n",
       "      <th>overall_info_need_type</th>\n",
       "    </tr>\n",
       "  </thead>\n",
       "  <tbody>\n",
       "    <tr>\n",
       "      <th>0</th>\n",
       "      <td>amount</td>\n",
       "      <td>10</td>\n",
       "      <td>process</td>\n",
       "    </tr>\n",
       "    <tr>\n",
       "      <th>1</th>\n",
       "      <td>cooking_technique</td>\n",
       "      <td>16</td>\n",
       "      <td>process</td>\n",
       "    </tr>\n",
       "    <tr>\n",
       "      <th>2</th>\n",
       "      <td>equipment</td>\n",
       "      <td>13</td>\n",
       "      <td>process</td>\n",
       "    </tr>\n",
       "    <tr>\n",
       "      <th>3</th>\n",
       "      <td>ingredient</td>\n",
       "      <td>40</td>\n",
       "      <td>process</td>\n",
       "    </tr>\n",
       "    <tr>\n",
       "      <th>4</th>\n",
       "      <td>knowledge</td>\n",
       "      <td>53</td>\n",
       "      <td>knowledge</td>\n",
       "    </tr>\n",
       "    <tr>\n",
       "      <th>5</th>\n",
       "      <td>meal</td>\n",
       "      <td>7</td>\n",
       "      <td>process</td>\n",
       "    </tr>\n",
       "    <tr>\n",
       "      <th>6</th>\n",
       "      <td>misc</td>\n",
       "      <td>2</td>\n",
       "      <td>process</td>\n",
       "    </tr>\n",
       "    <tr>\n",
       "      <th>7</th>\n",
       "      <td>preparation</td>\n",
       "      <td>47</td>\n",
       "      <td>process</td>\n",
       "    </tr>\n",
       "    <tr>\n",
       "      <th>8</th>\n",
       "      <td>recipe</td>\n",
       "      <td>6</td>\n",
       "      <td>process</td>\n",
       "    </tr>\n",
       "    <tr>\n",
       "      <th>9</th>\n",
       "      <td>temperature</td>\n",
       "      <td>2</td>\n",
       "      <td>process</td>\n",
       "    </tr>\n",
       "    <tr>\n",
       "      <th>10</th>\n",
       "      <td>time</td>\n",
       "      <td>15</td>\n",
       "      <td>process</td>\n",
       "    </tr>\n",
       "  </tbody>\n",
       "</table>\n",
       "</div>"
      ],
      "text/plain": [
       "            info_need  count overall_info_need_type\n",
       "0              amount     10                process\n",
       "1   cooking_technique     16                process\n",
       "2           equipment     13                process\n",
       "3          ingredient     40                process\n",
       "4           knowledge     53              knowledge\n",
       "5                meal      7                process\n",
       "6                misc      2                process\n",
       "7         preparation     47                process\n",
       "8              recipe      6                process\n",
       "9         temperature      2                process\n",
       "10               time     15                process"
      ]
     },
     "execution_count": 857,
     "metadata": {},
     "output_type": "execute_result"
    }
   ],
   "source": [
    "passive_info_need_counts = pd.DataFrame(list(passive_data.items()), columns=['info_need', 'count'])\n",
    "passive_info_need_counts['overall_info_need_type'] = passive_info_need_counts['info_need'].map(add_high_level_info_need_type)\n",
    "passive_info_need_counts\n"
   ]
  },
  {
   "cell_type": "markdown",
   "id": "95f50ea1-1661-43f8-8819-942ab88bf0f9",
   "metadata": {},
   "source": [
    "### 4.2 Count distribution for Knowledge/Process Needs"
   ]
  },
  {
   "cell_type": "markdown",
   "id": "62240186-5529-44f5-b9b5-c80b5ea98f64",
   "metadata": {},
   "source": [
    "**Number of knowledge/proccess needs for active condition**"
   ]
  },
  {
   "cell_type": "code",
   "execution_count": 858,
   "id": "b8613e43-4c54-44d9-9ddd-4b40468577cc",
   "metadata": {},
   "outputs": [],
   "source": [
    "def create_count_percentage(df, info_need_column):\n",
    "    # group the dataframe by overall_info_need_type and sum the count column\n",
    "    count_by_type = df.groupby(info_need_column)['count'].sum()\n",
    "\n",
    "    # calculate the percentages\n",
    "    total_count = count_by_type.sum()\n",
    "    percentage_by_type = (count_by_type / total_count) * 100\n",
    "    return count_by_type, percentage_by_type"
   ]
  },
  {
   "cell_type": "code",
   "execution_count": 859,
   "id": "dc478765-89de-4e25-a149-cd3e58e24cf0",
   "metadata": {},
   "outputs": [
    {
     "data": {
      "text/html": [
       "<div>\n",
       "<style scoped>\n",
       "    .dataframe tbody tr th:only-of-type {\n",
       "        vertical-align: middle;\n",
       "    }\n",
       "\n",
       "    .dataframe tbody tr th {\n",
       "        vertical-align: top;\n",
       "    }\n",
       "\n",
       "    .dataframe thead th {\n",
       "        text-align: right;\n",
       "    }\n",
       "</style>\n",
       "<table border=\"1\" class=\"dataframe\">\n",
       "  <thead>\n",
       "    <tr style=\"text-align: right;\">\n",
       "      <th></th>\n",
       "      <th>Counts</th>\n",
       "      <th>Percentages</th>\n",
       "    </tr>\n",
       "    <tr>\n",
       "      <th>overall_info_need_type</th>\n",
       "      <th></th>\n",
       "      <th></th>\n",
       "    </tr>\n",
       "  </thead>\n",
       "  <tbody>\n",
       "    <tr>\n",
       "      <th>knowledge</th>\n",
       "      <td>117</td>\n",
       "      <td>37.864078</td>\n",
       "    </tr>\n",
       "    <tr>\n",
       "      <th>process</th>\n",
       "      <td>192</td>\n",
       "      <td>62.135922</td>\n",
       "    </tr>\n",
       "  </tbody>\n",
       "</table>\n",
       "</div>"
      ],
      "text/plain": [
       "                        Counts  Percentages\n",
       "overall_info_need_type                     \n",
       "knowledge                  117    37.864078\n",
       "process                    192    62.135922"
      ]
     },
     "execution_count": 859,
     "metadata": {},
     "output_type": "execute_result"
    }
   ],
   "source": [
    "active_result = pd.DataFrame({'Counts': create_count_percentage(active_info_need_counts, 'overall_info_need_type')[0], 'Percentages': create_count_percentage(active_info_need_counts, 'overall_info_need_type')[1]})\n",
    "active_result"
   ]
  },
  {
   "cell_type": "markdown",
   "id": "4957ccbb-0af6-45fb-a53f-ee43e2be9f32",
   "metadata": {},
   "source": [
    "**Number of knowledge/proccess needs for passive condition**"
   ]
  },
  {
   "cell_type": "code",
   "execution_count": 860,
   "id": "337dbca8-2dee-4311-9170-457f67905454",
   "metadata": {},
   "outputs": [
    {
     "data": {
      "text/html": [
       "<div>\n",
       "<style scoped>\n",
       "    .dataframe tbody tr th:only-of-type {\n",
       "        vertical-align: middle;\n",
       "    }\n",
       "\n",
       "    .dataframe tbody tr th {\n",
       "        vertical-align: top;\n",
       "    }\n",
       "\n",
       "    .dataframe thead th {\n",
       "        text-align: right;\n",
       "    }\n",
       "</style>\n",
       "<table border=\"1\" class=\"dataframe\">\n",
       "  <thead>\n",
       "    <tr style=\"text-align: right;\">\n",
       "      <th></th>\n",
       "      <th>Counts</th>\n",
       "      <th>Percentages</th>\n",
       "    </tr>\n",
       "    <tr>\n",
       "      <th>overall_info_need_type</th>\n",
       "      <th></th>\n",
       "      <th></th>\n",
       "    </tr>\n",
       "  </thead>\n",
       "  <tbody>\n",
       "    <tr>\n",
       "      <th>knowledge</th>\n",
       "      <td>53</td>\n",
       "      <td>25.118483</td>\n",
       "    </tr>\n",
       "    <tr>\n",
       "      <th>process</th>\n",
       "      <td>158</td>\n",
       "      <td>74.881517</td>\n",
       "    </tr>\n",
       "  </tbody>\n",
       "</table>\n",
       "</div>"
      ],
      "text/plain": [
       "                        Counts  Percentages\n",
       "overall_info_need_type                     \n",
       "knowledge                   53    25.118483\n",
       "process                    158    74.881517"
      ]
     },
     "execution_count": 860,
     "metadata": {},
     "output_type": "execute_result"
    }
   ],
   "source": [
    "passive_result = pd.DataFrame({'Counts': create_count_percentage(passive_info_need_counts, 'overall_info_need_type')[0], 'Percentages': create_count_percentage(passive_info_need_counts, 'overall_info_need_type')[1]})\n",
    "passive_result"
   ]
  },
  {
   "cell_type": "code",
   "execution_count": 861,
   "id": "20de4c17-23b2-41c0-89e2-7221ffbfcdee",
   "metadata": {},
   "outputs": [
    {
     "data": {
      "text/plain": [
       "(8.686347589235845,\n",
       " 0.0032060244373923324,\n",
       " 1,\n",
       " array([[101.01923077,  68.98076923],\n",
       "        [207.98076923, 142.01923077]]))"
      ]
     },
     "execution_count": 861,
     "metadata": {},
     "output_type": "execute_result"
    }
   ],
   "source": [
    "overall_cross_tab = pd.concat([active_result['Counts'], passive_result['Counts']], axis=1, keys=['active', 'passive'])\n",
    "\n",
    "# Perform the chi-square test of independence\n",
    "chi2, pval, dof, exp_freq = chi2_contingency(overall_cross_tab, correction=True)\n",
    "chi2, pval, dof, exp_freq"
   ]
  },
  {
   "cell_type": "code",
   "execution_count": 862,
   "id": "30abb6ef-66a1-4a3a-ae90-981be4b1891d",
   "metadata": {},
   "outputs": [],
   "source": [
    "def chi_square_posthoc(df):\n",
    "    print(f\"Bonferroni-adjusted alpha is {0.05/len(df.index)}\")\n",
    "    for var in df.index:\n",
    "        obs = df.loc[var]\n",
    "        chi2, pval, dof, expected = chi2_contingency([obs, [df['active'].sum() - obs['active'], df['passive'].sum() - obs['passive']]])\n",
    "        print(f'{var.capitalize()}: Chi-square = {chi2:.2f}, p-value = {pval:.4f}')"
   ]
  },
  {
   "cell_type": "code",
   "execution_count": 863,
   "id": "8e40453e-dcc3-4245-8b9e-2c58c6d75204",
   "metadata": {},
   "outputs": [
    {
     "name": "stdout",
     "output_type": "stream",
     "text": [
      "Bonferroni-adjusted alpha is 0.025\n",
      "Knowledge: Chi-square = 8.69, p-value = 0.0032\n",
      "Process: Chi-square = 8.69, p-value = 0.0032\n"
     ]
    }
   ],
   "source": [
    "chi_square_posthoc(overall_cross_tab)"
   ]
  },
  {
   "cell_type": "markdown",
   "id": "a94d17eb-2f2f-4373-a96c-475377e7f524",
   "metadata": {},
   "source": [
    "### 4.3 Calculate number/percentage of needs split by process/knowledge"
   ]
  },
  {
   "cell_type": "markdown",
   "id": "0bbfd5ea-893e-47b8-838d-91a0e6c43e84",
   "metadata": {},
   "source": [
    "**Prepare data...**"
   ]
  },
  {
   "cell_type": "code",
   "execution_count": 864,
   "id": "a2f796db-e1a5-4891-9cd5-897a873a3623",
   "metadata": {},
   "outputs": [],
   "source": [
    "active_knowledge = pd.DataFrame(list(knowledge_active_data.items()), columns=['info_need', 'count'])\n",
    "active_process = active_info_need_counts[active_info_need_counts['overall_info_need_type']=='process']\n",
    "passive_knowledge = pd.DataFrame(list(knowledge_passive_data.items()), columns=['info_need', 'count'])\n",
    "passive_process = passive_info_need_counts[passive_info_need_counts['overall_info_need_type']=='process']"
   ]
  },
  {
   "cell_type": "markdown",
   "id": "3f02a33b-5548-4065-9ae2-29d0cf45e01f",
   "metadata": {},
   "source": [
    "#### 4.3.1 Calculate Distribution of Process Needs"
   ]
  },
  {
   "cell_type": "markdown",
   "id": "3f896e43-7b62-4560-bdb1-7ff0759262f8",
   "metadata": {},
   "source": [
    "**Active Conversation** *process needs*"
   ]
  },
  {
   "cell_type": "code",
   "execution_count": 865,
   "id": "4f267c1a-fce3-49e7-ab8d-f708f8c80045",
   "metadata": {},
   "outputs": [
    {
     "data": {
      "text/html": [
       "<div>\n",
       "<style scoped>\n",
       "    .dataframe tbody tr th:only-of-type {\n",
       "        vertical-align: middle;\n",
       "    }\n",
       "\n",
       "    .dataframe tbody tr th {\n",
       "        vertical-align: top;\n",
       "    }\n",
       "\n",
       "    .dataframe thead th {\n",
       "        text-align: right;\n",
       "    }\n",
       "</style>\n",
       "<table border=\"1\" class=\"dataframe\">\n",
       "  <thead>\n",
       "    <tr style=\"text-align: right;\">\n",
       "      <th></th>\n",
       "      <th>Counts</th>\n",
       "      <th>Percentages</th>\n",
       "    </tr>\n",
       "    <tr>\n",
       "      <th>info_need</th>\n",
       "      <th></th>\n",
       "      <th></th>\n",
       "    </tr>\n",
       "  </thead>\n",
       "  <tbody>\n",
       "    <tr>\n",
       "      <th>amount</th>\n",
       "      <td>11</td>\n",
       "      <td>5.729167</td>\n",
       "    </tr>\n",
       "    <tr>\n",
       "      <th>cooking_technique</th>\n",
       "      <td>25</td>\n",
       "      <td>13.020833</td>\n",
       "    </tr>\n",
       "    <tr>\n",
       "      <th>equipment</th>\n",
       "      <td>18</td>\n",
       "      <td>9.375000</td>\n",
       "    </tr>\n",
       "    <tr>\n",
       "      <th>ingredient</th>\n",
       "      <td>45</td>\n",
       "      <td>23.437500</td>\n",
       "    </tr>\n",
       "    <tr>\n",
       "      <th>meal</th>\n",
       "      <td>3</td>\n",
       "      <td>1.562500</td>\n",
       "    </tr>\n",
       "    <tr>\n",
       "      <th>preparation</th>\n",
       "      <td>60</td>\n",
       "      <td>31.250000</td>\n",
       "    </tr>\n",
       "    <tr>\n",
       "      <th>recipe</th>\n",
       "      <td>7</td>\n",
       "      <td>3.645833</td>\n",
       "    </tr>\n",
       "    <tr>\n",
       "      <th>temperature</th>\n",
       "      <td>7</td>\n",
       "      <td>3.645833</td>\n",
       "    </tr>\n",
       "    <tr>\n",
       "      <th>time</th>\n",
       "      <td>16</td>\n",
       "      <td>8.333333</td>\n",
       "    </tr>\n",
       "  </tbody>\n",
       "</table>\n",
       "</div>"
      ],
      "text/plain": [
       "                   Counts  Percentages\n",
       "info_need                             \n",
       "amount                 11     5.729167\n",
       "cooking_technique      25    13.020833\n",
       "equipment              18     9.375000\n",
       "ingredient             45    23.437500\n",
       "meal                    3     1.562500\n",
       "preparation            60    31.250000\n",
       "recipe                  7     3.645833\n",
       "temperature             7     3.645833\n",
       "time                   16     8.333333"
      ]
     },
     "execution_count": 865,
     "metadata": {},
     "output_type": "execute_result"
    }
   ],
   "source": [
    "active_process_result = pd.DataFrame({'Counts': create_count_percentage(active_process, 'info_need')[0], 'Percentages': create_count_percentage(active_process, 'info_need')[1]})\n",
    "active_process_result"
   ]
  },
  {
   "cell_type": "markdown",
   "id": "5fbb9f10-86df-483f-b5e8-fa4854967ad8",
   "metadata": {},
   "source": [
    "**Passive Conversation** *process needs*"
   ]
  },
  {
   "cell_type": "code",
   "execution_count": 866,
   "id": "2f71963c-06d5-41b9-9d3b-0b06a1f0ca29",
   "metadata": {},
   "outputs": [
    {
     "data": {
      "text/html": [
       "<div>\n",
       "<style scoped>\n",
       "    .dataframe tbody tr th:only-of-type {\n",
       "        vertical-align: middle;\n",
       "    }\n",
       "\n",
       "    .dataframe tbody tr th {\n",
       "        vertical-align: top;\n",
       "    }\n",
       "\n",
       "    .dataframe thead th {\n",
       "        text-align: right;\n",
       "    }\n",
       "</style>\n",
       "<table border=\"1\" class=\"dataframe\">\n",
       "  <thead>\n",
       "    <tr style=\"text-align: right;\">\n",
       "      <th></th>\n",
       "      <th>Counts</th>\n",
       "      <th>Percentages</th>\n",
       "    </tr>\n",
       "    <tr>\n",
       "      <th>info_need</th>\n",
       "      <th></th>\n",
       "      <th></th>\n",
       "    </tr>\n",
       "  </thead>\n",
       "  <tbody>\n",
       "    <tr>\n",
       "      <th>amount</th>\n",
       "      <td>10</td>\n",
       "      <td>6.329114</td>\n",
       "    </tr>\n",
       "    <tr>\n",
       "      <th>cooking_technique</th>\n",
       "      <td>16</td>\n",
       "      <td>10.126582</td>\n",
       "    </tr>\n",
       "    <tr>\n",
       "      <th>equipment</th>\n",
       "      <td>13</td>\n",
       "      <td>8.227848</td>\n",
       "    </tr>\n",
       "    <tr>\n",
       "      <th>ingredient</th>\n",
       "      <td>40</td>\n",
       "      <td>25.316456</td>\n",
       "    </tr>\n",
       "    <tr>\n",
       "      <th>meal</th>\n",
       "      <td>7</td>\n",
       "      <td>4.430380</td>\n",
       "    </tr>\n",
       "    <tr>\n",
       "      <th>misc</th>\n",
       "      <td>2</td>\n",
       "      <td>1.265823</td>\n",
       "    </tr>\n",
       "    <tr>\n",
       "      <th>preparation</th>\n",
       "      <td>47</td>\n",
       "      <td>29.746835</td>\n",
       "    </tr>\n",
       "    <tr>\n",
       "      <th>recipe</th>\n",
       "      <td>6</td>\n",
       "      <td>3.797468</td>\n",
       "    </tr>\n",
       "    <tr>\n",
       "      <th>temperature</th>\n",
       "      <td>2</td>\n",
       "      <td>1.265823</td>\n",
       "    </tr>\n",
       "    <tr>\n",
       "      <th>time</th>\n",
       "      <td>15</td>\n",
       "      <td>9.493671</td>\n",
       "    </tr>\n",
       "  </tbody>\n",
       "</table>\n",
       "</div>"
      ],
      "text/plain": [
       "                   Counts  Percentages\n",
       "info_need                             \n",
       "amount                 10     6.329114\n",
       "cooking_technique      16    10.126582\n",
       "equipment              13     8.227848\n",
       "ingredient             40    25.316456\n",
       "meal                    7     4.430380\n",
       "misc                    2     1.265823\n",
       "preparation            47    29.746835\n",
       "recipe                  6     3.797468\n",
       "temperature             2     1.265823\n",
       "time                   15     9.493671"
      ]
     },
     "execution_count": 866,
     "metadata": {},
     "output_type": "execute_result"
    }
   ],
   "source": [
    "passive_process_result = pd.DataFrame({'Counts': create_count_percentage(passive_process, 'info_need')[0], 'Percentages': create_count_percentage(passive_process, 'info_need')[1]})\n",
    "passive_process_result"
   ]
  },
  {
   "cell_type": "markdown",
   "id": "0e252e9b-4235-400a-a142-87e138717e77",
   "metadata": {},
   "source": [
    "#### 4.3.2 Calculate distribution of Knowledge Needs"
   ]
  },
  {
   "cell_type": "markdown",
   "id": "b8b239b9-9698-4505-ac34-4002dc81c5c5",
   "metadata": {},
   "source": [
    "**Active Conversation** *knowledge needs*"
   ]
  },
  {
   "cell_type": "code",
   "execution_count": 867,
   "id": "1411c8cf-c819-4d48-b72e-bf0d48fbf71d",
   "metadata": {},
   "outputs": [
    {
     "data": {
      "text/html": [
       "<div>\n",
       "<style scoped>\n",
       "    .dataframe tbody tr th:only-of-type {\n",
       "        vertical-align: middle;\n",
       "    }\n",
       "\n",
       "    .dataframe tbody tr th {\n",
       "        vertical-align: top;\n",
       "    }\n",
       "\n",
       "    .dataframe thead th {\n",
       "        text-align: right;\n",
       "    }\n",
       "</style>\n",
       "<table border=\"1\" class=\"dataframe\">\n",
       "  <thead>\n",
       "    <tr style=\"text-align: right;\">\n",
       "      <th></th>\n",
       "      <th>Counts</th>\n",
       "      <th>Percentages</th>\n",
       "    </tr>\n",
       "    <tr>\n",
       "      <th>category</th>\n",
       "      <th></th>\n",
       "      <th></th>\n",
       "    </tr>\n",
       "  </thead>\n",
       "  <tbody>\n",
       "    <tr>\n",
       "      <th>history</th>\n",
       "      <td>20</td>\n",
       "      <td>15.62500</td>\n",
       "    </tr>\n",
       "    <tr>\n",
       "      <th>other</th>\n",
       "      <td>27</td>\n",
       "      <td>21.09375</td>\n",
       "    </tr>\n",
       "    <tr>\n",
       "      <th>science</th>\n",
       "      <td>40</td>\n",
       "      <td>31.25000</td>\n",
       "    </tr>\n",
       "    <tr>\n",
       "      <th>step_importance</th>\n",
       "      <td>41</td>\n",
       "      <td>32.03125</td>\n",
       "    </tr>\n",
       "  </tbody>\n",
       "</table>\n",
       "</div>"
      ],
      "text/plain": [
       "                 Counts  Percentages\n",
       "category                            \n",
       "history              20     15.62500\n",
       "other                27     21.09375\n",
       "science              40     31.25000\n",
       "step_importance      41     32.03125"
      ]
     },
     "execution_count": 867,
     "metadata": {},
     "output_type": "execute_result"
    }
   ],
   "source": [
    "active_knowledge_result = pd.DataFrame({'Counts': create_count_percentage(active_knowledge, 'info_need')[0], 'Percentages': create_count_percentage(active_knowledge, 'info_need')[1]}).reset_index()\n",
    "active_knowledge_result['category'] = active_knowledge_result['info_need'].apply(lambda x: x if x in ['science','history','step_importance'] else 'other')\n",
    "active_knowledge_result=active_knowledge_result.groupby('category').agg({'Counts': 'sum', 'Percentages': 'sum'})\n",
    "active_knowledge_result"
   ]
  },
  {
   "cell_type": "markdown",
   "id": "496e6ea8-5e63-4b7d-9253-4e157d8af49e",
   "metadata": {},
   "source": [
    "**Passive Conversation** *knowledge needs*"
   ]
  },
  {
   "cell_type": "code",
   "execution_count": 868,
   "id": "0488491d-6b76-4c33-a0f4-e5bd8576bbb5",
   "metadata": {},
   "outputs": [
    {
     "data": {
      "text/html": [
       "<div>\n",
       "<style scoped>\n",
       "    .dataframe tbody tr th:only-of-type {\n",
       "        vertical-align: middle;\n",
       "    }\n",
       "\n",
       "    .dataframe tbody tr th {\n",
       "        vertical-align: top;\n",
       "    }\n",
       "\n",
       "    .dataframe thead th {\n",
       "        text-align: right;\n",
       "    }\n",
       "</style>\n",
       "<table border=\"1\" class=\"dataframe\">\n",
       "  <thead>\n",
       "    <tr style=\"text-align: right;\">\n",
       "      <th></th>\n",
       "      <th>Counts</th>\n",
       "      <th>Percentages</th>\n",
       "    </tr>\n",
       "    <tr>\n",
       "      <th>category</th>\n",
       "      <th></th>\n",
       "      <th></th>\n",
       "    </tr>\n",
       "  </thead>\n",
       "  <tbody>\n",
       "    <tr>\n",
       "      <th>history</th>\n",
       "      <td>21</td>\n",
       "      <td>25.925926</td>\n",
       "    </tr>\n",
       "    <tr>\n",
       "      <th>other</th>\n",
       "      <td>33</td>\n",
       "      <td>40.740741</td>\n",
       "    </tr>\n",
       "    <tr>\n",
       "      <th>science</th>\n",
       "      <td>8</td>\n",
       "      <td>9.876543</td>\n",
       "    </tr>\n",
       "    <tr>\n",
       "      <th>step_importance</th>\n",
       "      <td>19</td>\n",
       "      <td>23.456790</td>\n",
       "    </tr>\n",
       "  </tbody>\n",
       "</table>\n",
       "</div>"
      ],
      "text/plain": [
       "                 Counts  Percentages\n",
       "category                            \n",
       "history              21    25.925926\n",
       "other                33    40.740741\n",
       "science               8     9.876543\n",
       "step_importance      19    23.456790"
      ]
     },
     "execution_count": 868,
     "metadata": {},
     "output_type": "execute_result"
    }
   ],
   "source": [
    "passive_knowledge_result = pd.DataFrame({'Counts': create_count_percentage(passive_knowledge, 'info_need')[0], 'Percentages': create_count_percentage(passive_knowledge, 'info_need')[1]}).reset_index()\n",
    "passive_knowledge_result['category'] = passive_knowledge_result['info_need'].apply(lambda x: x if x in ['science','history','step_importance'] else 'other')\n",
    "passive_knowledge_result=passive_knowledge_result.groupby('category').agg({'Counts': 'sum', 'Percentages': 'sum'})\n",
    "passive_knowledge_result"
   ]
  },
  {
   "cell_type": "code",
   "execution_count": 869,
   "id": "a5e9594d-b03c-403e-a908-d1fa0397072a",
   "metadata": {},
   "outputs": [
    {
     "data": {
      "text/html": [
       "<div>\n",
       "<style scoped>\n",
       "    .dataframe tbody tr th:only-of-type {\n",
       "        vertical-align: middle;\n",
       "    }\n",
       "\n",
       "    .dataframe tbody tr th {\n",
       "        vertical-align: top;\n",
       "    }\n",
       "\n",
       "    .dataframe thead th {\n",
       "        text-align: right;\n",
       "    }\n",
       "</style>\n",
       "<table border=\"1\" class=\"dataframe\">\n",
       "  <thead>\n",
       "    <tr style=\"text-align: right;\">\n",
       "      <th></th>\n",
       "      <th>active</th>\n",
       "      <th>passive</th>\n",
       "    </tr>\n",
       "    <tr>\n",
       "      <th>category</th>\n",
       "      <th></th>\n",
       "      <th></th>\n",
       "    </tr>\n",
       "  </thead>\n",
       "  <tbody>\n",
       "    <tr>\n",
       "      <th>history</th>\n",
       "      <td>20</td>\n",
       "      <td>21</td>\n",
       "    </tr>\n",
       "    <tr>\n",
       "      <th>other</th>\n",
       "      <td>27</td>\n",
       "      <td>33</td>\n",
       "    </tr>\n",
       "    <tr>\n",
       "      <th>science</th>\n",
       "      <td>40</td>\n",
       "      <td>8</td>\n",
       "    </tr>\n",
       "    <tr>\n",
       "      <th>step_importance</th>\n",
       "      <td>41</td>\n",
       "      <td>19</td>\n",
       "    </tr>\n",
       "  </tbody>\n",
       "</table>\n",
       "</div>"
      ],
      "text/plain": [
       "                 active  passive\n",
       "category                        \n",
       "history              20       21\n",
       "other                27       33\n",
       "science              40        8\n",
       "step_importance      41       19"
      ]
     },
     "execution_count": 869,
     "metadata": {},
     "output_type": "execute_result"
    }
   ],
   "source": [
    "knowledge_cross_tab = pd.concat([active_knowledge_result['Counts'], passive_knowledge_result['Counts']], axis=1, keys=['active', 'passive'])\n",
    "knowledge_cross_tab"
   ]
  },
  {
   "cell_type": "code",
   "execution_count": 870,
   "id": "57e820c9-7b87-49c6-9226-7ea6bc058c4a",
   "metadata": {},
   "outputs": [
    {
     "data": {
      "text/plain": [
       "(20.491280628952122, 0.0001342528101490615)"
      ]
     },
     "execution_count": 870,
     "metadata": {},
     "output_type": "execute_result"
    }
   ],
   "source": [
    "# Perform the chi-square test of independence\n",
    "chi2, pval, dof, exp_freq = chi2_contingency(knowledge_cross_tab, correction=True)\n",
    "chi2, pval"
   ]
  },
  {
   "cell_type": "code",
   "execution_count": 871,
   "id": "93c79043-258c-4cff-93a4-da8345601448",
   "metadata": {},
   "outputs": [
    {
     "name": "stdout",
     "output_type": "stream",
     "text": [
      "Bonferroni-adjusted alpha is 0.0125\n",
      "History: Chi-square = 2.72, p-value = 0.0993\n",
      "Other: Chi-square = 8.42, p-value = 0.0037\n",
      "Science: Chi-square = 11.63, p-value = 0.0006\n",
      "Step_importance: Chi-square = 1.39, p-value = 0.2388\n"
     ]
    }
   ],
   "source": [
    "chi_square_posthoc(knowledge_cross_tab)"
   ]
  },
  {
   "cell_type": "markdown",
   "id": "e1d7c8bf-e564-4a39-9cfb-16e7601e6cb8",
   "metadata": {},
   "source": [
    "### 4.4 Calculate avg. number of information nuggets conveyed in response to user questions"
   ]
  },
  {
   "cell_type": "markdown",
   "id": "9c6809c7-78f7-45c4-9d1f-d4d7300007ce",
   "metadata": {},
   "source": [
    "We group the data by `parent_id` to calculate the average number of info nuggets contained in an **answer**."
   ]
  },
  {
   "cell_type": "code",
   "execution_count": 872,
   "id": "4eb3502f-8e4a-4cc5-a59b-769b2edd987d",
   "metadata": {},
   "outputs": [],
   "source": [
    "knowledge_answers = info_nuggets_parent_children[info_nuggets_parent_children['overall_info_need_type']=='knowledge']\n",
    "active_knowledge_answers = knowledge_answers[knowledge_answers['condition']=='active']\n",
    "passive_knowledge_answers = knowledge_answers[knowledge_answers['condition']=='passive']\n",
    "\n",
    "process_answers = info_nuggets_parent_children[info_nuggets_parent_children['overall_info_need_type']=='process']\n",
    "active_process_answers = process_answers[process_answers['condition']=='active']\n",
    "passive_process_answers = process_answers[process_answers['condition']=='passive']"
   ]
  },
  {
   "cell_type": "markdown",
   "id": "117d3ecb-8718-47d4-8ebb-ff5e73993f48",
   "metadata": {},
   "source": [
    "Therefore, we first calculate the total number of nuggets for each answer (`sum()`) and then calculate the overall mean for each answer..."
   ]
  },
  {
   "cell_type": "code",
   "execution_count": 873,
   "id": "f933e04e-0b04-443f-a605-0719779cd147",
   "metadata": {
    "tags": []
   },
   "outputs": [
    {
     "name": "stdout",
     "output_type": "stream",
     "text": [
      "Avg. # of nuggets in KNOWLEDGE answers: 1.58 -- SD: 1.78 \n",
      "Avg. # of nuggets in ACTIVE KNOWLEDGE answers: 1.42\n",
      "Avg. # of nuggets in PASSIVE KNOWLEDGE answers: 1.92\n"
     ]
    }
   ],
   "source": [
    "print(f\"Avg. # of nuggets in KNOWLEDGE answers: {knowledge_answers.groupby('parent_id')['nugget_1'].sum().mean():.2f} -- SD: {knowledge_answers.groupby('parent_id')['nugget_1'].sum().std():.2f} \")\n",
    "print(f\"Avg. # of nuggets in ACTIVE KNOWLEDGE answers: {active_knowledge_answers.groupby('parent_id')['nugget_1'].sum().mean():.2f}\")\n",
    "print(f\"Avg. # of nuggets in PASSIVE KNOWLEDGE answers: {passive_knowledge_answers.groupby('parent_id')['nugget_1'].sum().mean():.2f}\")"
   ]
  },
  {
   "cell_type": "code",
   "execution_count": 874,
   "id": "fbc3fb26-230f-43f8-89b0-c94e0862f489",
   "metadata": {},
   "outputs": [
    {
     "name": "stdout",
     "output_type": "stream",
     "text": [
      "Avg. # of nuggets in PROCESS answers: 0.79 -- SD: 1.39 \n",
      "Avg. # of nuggets in ACTIVE PROCESS answers: 0.86\n",
      "Avg. # of nuggets in PASSIVE PROCESS answers: 0.71\n"
     ]
    }
   ],
   "source": [
    "print(f\"Avg. # of nuggets in PROCESS answers: {process_answers.groupby('parent_id')['nugget_1'].sum().mean():.2f} -- SD: {process_answers.groupby('parent_id')['nugget_1'].sum().std():.2f} \")\n",
    "print(f\"Avg. # of nuggets in ACTIVE PROCESS answers: {active_process_answers.groupby('parent_id')['nugget_1'].sum().mean():.2f}\")\n",
    "print(f\"Avg. # of nuggets in PASSIVE PROCESS answers: {passive_process_answers.groupby('parent_id')['nugget_1'].sum().mean():.2f}\")"
   ]
  },
  {
   "cell_type": "markdown",
   "id": "8e708847-d844-4f84-91e5-4b81fabf1da2",
   "metadata": {},
   "source": [
    "U-Test: Are there **sig. more info nuggets in knowledge answer**?"
   ]
  },
  {
   "cell_type": "code",
   "execution_count": 875,
   "id": "9e688145-ef58-4554-8e77-864d6a6baf22",
   "metadata": {},
   "outputs": [
    {
     "data": {
      "text/plain": [
       "MannwhitneyuResult(statistic=19396.5, pvalue=2.710387482483306e-09)"
      ]
     },
     "execution_count": 875,
     "metadata": {},
     "output_type": "execute_result"
    }
   ],
   "source": [
    "stats.mannwhitneyu(knowledge_answers.groupby('parent_id')['nugget_1'].sum(),\n",
    "                   process_answers.groupby('parent_id')['nugget_1'].sum()\n",
    "                  )"
   ]
  },
  {
   "cell_type": "markdown",
   "id": "31c58a5b-5c61-4232-bef5-152e674e28ee",
   "metadata": {},
   "source": [
    "**Overall avg. # of Process Subtype needs:**\n"
   ]
  },
  {
   "cell_type": "code",
   "execution_count": 876,
   "id": "eb033e81-beed-4ce3-aee2-d755dfdbdc78",
   "metadata": {},
   "outputs": [
    {
     "name": "stdout",
     "output_type": "stream",
     "text": [
      "OVERALL avg. PROCESS needs counts:\n",
      "parent_info_need\n",
      "amount               0.684211\n",
      "cooking_technique    1.076923\n",
      "equipment            0.903226\n",
      "ingredient           1.268293\n",
      "meal                 1.500000\n",
      "misc                 0.000000\n",
      "preparation          0.157895\n",
      "recipe               1.250000\n",
      "temperature          1.888889\n",
      "time                 0.344828\n",
      "Name: nugget_1, dtype: float64\n"
     ]
    }
   ],
   "source": [
    "print(f\"OVERALL avg. PROCESS needs counts:\")\n",
    "print(process_answers.groupby(['parent_id', 'parent_info_need'])['nugget_1'].sum().groupby('parent_info_need').mean())\n"
   ]
  },
  {
   "cell_type": "code",
   "execution_count": 877,
   "id": "e51caf51-286e-4a20-acf8-d83a2bcfe18a",
   "metadata": {},
   "outputs": [
    {
     "name": "stdout",
     "output_type": "stream",
     "text": [
      "ACTIVE avg. PROCESS needs counts:\n",
      "parent_info_need\n",
      "amount               0.454545\n",
      "cooking_technique    1.391304\n",
      "equipment            1.388889\n",
      "ingredient           1.227273\n",
      "meal                 0.333333\n",
      "preparation          0.180000\n",
      "recipe               1.166667\n",
      "temperature          1.857143\n",
      "time                 0.357143\n",
      "Name: nugget_1, dtype: float64\n"
     ]
    }
   ],
   "source": [
    "print(f\"ACTIVE avg. PROCESS needs counts:\")\n",
    "print(active_process_answers.groupby(['parent_id', 'parent_info_need'])['nugget_1'].sum().groupby('parent_info_need').mean())\n"
   ]
  },
  {
   "cell_type": "code",
   "execution_count": 878,
   "id": "a05a1308-807a-480a-a448-2c83052c295c",
   "metadata": {},
   "outputs": [
    {
     "name": "stdout",
     "output_type": "stream",
     "text": [
      "PASSIVE avg. PROCESS needs counts:\n",
      "parent_info_need\n",
      "amount               1.000000\n",
      "cooking_technique    0.625000\n",
      "equipment            0.230769\n",
      "ingredient           1.315789\n",
      "meal                 2.000000\n",
      "misc                 0.000000\n",
      "preparation          0.133333\n",
      "recipe               1.333333\n",
      "temperature          2.000000\n",
      "time                 0.333333\n",
      "Name: nugget_1, dtype: float64\n"
     ]
    }
   ],
   "source": [
    "print(f\"PASSIVE avg. PROCESS needs counts:\")\n",
    "print(passive_process_answers.groupby(['parent_id', 'parent_info_need'])['nugget_1'].sum().groupby('parent_info_need').mean())\n"
   ]
  },
  {
   "cell_type": "markdown",
   "id": "2e65b2f0-5190-4dec-a9dd-f4376375b28f",
   "metadata": {},
   "source": [
    "-----------"
   ]
  },
  {
   "cell_type": "markdown",
   "id": "41eef16b-43b9-4677-b835-7d418303ed37",
   "metadata": {},
   "source": [
    "**Overall avg. # of Knowledge Subtype needs:**\n"
   ]
  },
  {
   "cell_type": "code",
   "execution_count": 879,
   "id": "dd8aed5a-f6cf-427f-a278-dea45477aef0",
   "metadata": {},
   "outputs": [
    {
     "name": "stdout",
     "output_type": "stream",
     "text": [
      "OVERALL avg. KNOWLEDGE needs counts:\n",
      "parent_info_need_subtype\n",
      "equipment          1.600000\n",
      "history            2.170732\n",
      "ingredient         2.166667\n",
      "recipe             2.000000\n",
      "science            1.595745\n",
      "step_importance    1.135593\n",
      "temperature        0.000000\n",
      "time               0.000000\n",
      "Name: nugget_1, dtype: float64\n"
     ]
    }
   ],
   "source": [
    "print(f\"OVERALL avg. KNOWLEDGE needs counts:\")\n",
    "print(knowledge_answers.groupby(['parent_id', 'parent_info_need_subtype'])['nugget_1'].sum().groupby('parent_info_need_subtype').mean())\n"
   ]
  },
  {
   "cell_type": "code",
   "execution_count": 880,
   "id": "5d56d9b4-2dce-4a50-98cc-571384c297e3",
   "metadata": {},
   "outputs": [
    {
     "name": "stdout",
     "output_type": "stream",
     "text": [
      "ACTIVE avg. KNOWLEDGE needs counts:\n",
      "parent_info_need_subtype\n",
      "equipment          1.666667\n",
      "history            1.700000\n",
      "ingredient         2.166667\n",
      "recipe             3.000000\n",
      "science            1.435897\n",
      "step_importance    1.150000\n",
      "temperature        0.000000\n",
      "time               0.000000\n",
      "Name: nugget_1, dtype: float64\n"
     ]
    }
   ],
   "source": [
    "print(f\"ACTIVE avg. KNOWLEDGE needs counts:\")\n",
    "print(active_knowledge_answers.groupby(['parent_id', 'parent_info_need_subtype'])['nugget_1'].sum().groupby('parent_info_need_subtype').mean())\n"
   ]
  },
  {
   "cell_type": "code",
   "execution_count": 881,
   "id": "cf836942-8716-4ce3-ab9f-e4bc736e0a29",
   "metadata": {},
   "outputs": [
    {
     "name": "stdout",
     "output_type": "stream",
     "text": [
      "PASSIVE avg. KNOWLEDGE needs counts:\n",
      "parent_info_need_subtype\n",
      "equipment          1.500000\n",
      "history            2.619048\n",
      "recipe             1.000000\n",
      "science            2.375000\n",
      "step_importance    1.105263\n",
      "Name: nugget_1, dtype: float64\n"
     ]
    }
   ],
   "source": [
    "print(f\"PASSIVE avg. KNOWLEDGE needs counts:\")\n",
    "print(passive_knowledge_answers.groupby(['parent_id', 'parent_info_need_subtype'])['nugget_1'].sum().groupby('parent_info_need_subtype').mean())\n"
   ]
  },
  {
   "cell_type": "markdown",
   "id": "4e7b09eb-a5ce-400d-ade6-708f867cd6ff",
   "metadata": {},
   "source": [
    "## 5. Which information sources were used to satisfy various information needs?"
   ]
  },
  {
   "cell_type": "code",
   "execution_count": 913,
   "id": "058cc26b-4ba3-4913-a16a-58e06ca3257b",
   "metadata": {},
   "outputs": [
    {
     "data": {
      "text/html": [
       "<div>\n",
       "<style scoped>\n",
       "    .dataframe tbody tr th:only-of-type {\n",
       "        vertical-align: middle;\n",
       "    }\n",
       "\n",
       "    .dataframe tbody tr th {\n",
       "        vertical-align: top;\n",
       "    }\n",
       "\n",
       "    .dataframe thead th {\n",
       "        text-align: right;\n",
       "    }\n",
       "</style>\n",
       "<table border=\"1\" class=\"dataframe\">\n",
       "  <thead>\n",
       "    <tr style=\"text-align: right;\">\n",
       "      <th></th>\n",
       "      <th>excel_how_to</th>\n",
       "      <th>excel_recipe</th>\n",
       "      <th>wikipedia</th>\n",
       "      <th>serious_eats</th>\n",
       "      <th>stack_excahnge</th>\n",
       "    </tr>\n",
       "    <tr>\n",
       "      <th>parent_info_need</th>\n",
       "      <th></th>\n",
       "      <th></th>\n",
       "      <th></th>\n",
       "      <th></th>\n",
       "      <th></th>\n",
       "    </tr>\n",
       "  </thead>\n",
       "  <tbody>\n",
       "    <tr>\n",
       "      <th>amount</th>\n",
       "      <td>3</td>\n",
       "      <td>6</td>\n",
       "      <td>2</td>\n",
       "      <td>0</td>\n",
       "      <td>2</td>\n",
       "    </tr>\n",
       "    <tr>\n",
       "      <th>cooking_technique</th>\n",
       "      <td>18</td>\n",
       "      <td>2</td>\n",
       "      <td>3</td>\n",
       "      <td>11</td>\n",
       "      <td>3</td>\n",
       "    </tr>\n",
       "    <tr>\n",
       "      <th>equipment</th>\n",
       "      <td>12</td>\n",
       "      <td>4</td>\n",
       "      <td>6</td>\n",
       "      <td>3</td>\n",
       "      <td>2</td>\n",
       "    </tr>\n",
       "    <tr>\n",
       "      <th>ingredient</th>\n",
       "      <td>48</td>\n",
       "      <td>9</td>\n",
       "      <td>28</td>\n",
       "      <td>10</td>\n",
       "      <td>10</td>\n",
       "    </tr>\n",
       "    <tr>\n",
       "      <th>knowledge</th>\n",
       "      <td>147</td>\n",
       "      <td>7</td>\n",
       "      <td>60</td>\n",
       "      <td>11</td>\n",
       "      <td>15</td>\n",
       "    </tr>\n",
       "    <tr>\n",
       "      <th>meal</th>\n",
       "      <td>3</td>\n",
       "      <td>0</td>\n",
       "      <td>6</td>\n",
       "      <td>0</td>\n",
       "      <td>0</td>\n",
       "    </tr>\n",
       "    <tr>\n",
       "      <th>misc</th>\n",
       "      <td>0</td>\n",
       "      <td>0</td>\n",
       "      <td>0</td>\n",
       "      <td>0</td>\n",
       "      <td>0</td>\n",
       "    </tr>\n",
       "    <tr>\n",
       "      <th>preparation</th>\n",
       "      <td>13</td>\n",
       "      <td>15</td>\n",
       "      <td>0</td>\n",
       "      <td>0</td>\n",
       "      <td>1</td>\n",
       "    </tr>\n",
       "    <tr>\n",
       "      <th>recipe</th>\n",
       "      <td>4</td>\n",
       "      <td>1</td>\n",
       "      <td>4</td>\n",
       "      <td>1</td>\n",
       "      <td>0</td>\n",
       "    </tr>\n",
       "    <tr>\n",
       "      <th>temperature</th>\n",
       "      <td>4</td>\n",
       "      <td>2</td>\n",
       "      <td>5</td>\n",
       "      <td>0</td>\n",
       "      <td>0</td>\n",
       "    </tr>\n",
       "    <tr>\n",
       "      <th>time</th>\n",
       "      <td>5</td>\n",
       "      <td>8</td>\n",
       "      <td>1</td>\n",
       "      <td>3</td>\n",
       "      <td>6</td>\n",
       "    </tr>\n",
       "  </tbody>\n",
       "</table>\n",
       "</div>"
      ],
      "text/plain": [
       "                   excel_how_to  excel_recipe  wikipedia  serious_eats  \\\n",
       "parent_info_need                                                         \n",
       "amount                        3             6          2             0   \n",
       "cooking_technique            18             2          3            11   \n",
       "equipment                    12             4          6             3   \n",
       "ingredient                   48             9         28            10   \n",
       "knowledge                   147             7         60            11   \n",
       "meal                          3             0          6             0   \n",
       "misc                          0             0          0             0   \n",
       "preparation                  13            15          0             0   \n",
       "recipe                        4             1          4             1   \n",
       "temperature                   4             2          5             0   \n",
       "time                          5             8          1             3   \n",
       "\n",
       "                   stack_excahnge  \n",
       "parent_info_need                   \n",
       "amount                          2  \n",
       "cooking_technique               3  \n",
       "equipment                       2  \n",
       "ingredient                     10  \n",
       "knowledge                      15  \n",
       "meal                            0  \n",
       "misc                            0  \n",
       "preparation                     1  \n",
       "recipe                          0  \n",
       "temperature                     0  \n",
       "time                            6  "
      ]
     },
     "execution_count": 913,
     "metadata": {},
     "output_type": "execute_result"
    }
   ],
   "source": [
    "info_nuggets_parent_children = info_nuggets_parent_children[info_nuggets_parent_children['parent_info_need']!=' ']\n",
    "all_answers = info_nuggets_parent_children.drop_duplicates(subset=('utterance_id'))\n",
    "process_answer_sources = all_answers[all_answers['overall_info_need_type']=='process'].groupby('parent_info_need').sum().loc[:,'excel_how_to':'stack_excahnge']\n",
    "knowledge_answer_sources = all_answers[all_answers['overall_info_need_type']=='knowledge'].groupby('parent_info_need_subtype').sum().loc[:,'excel_how_to':'stack_excahnge']\n",
    "all_answers.groupby('parent_info_need').sum().loc[:,'excel_how_to':'stack_excahnge']"
   ]
  },
  {
   "cell_type": "code",
   "execution_count": 914,
   "id": "6bcba801-01e1-4d4f-928a-bf288d1efeb1",
   "metadata": {},
   "outputs": [],
   "source": [
    "# Calculate the sum for each column\n",
    "column_sum = info_nuggets_parent_children.drop_duplicates(subset=('utterance_id')).groupby('parent_info_need').sum().loc[:,'excel_how_to':'stack_excahnge'].sum(axis=0)\n",
    "\n",
    "# Calculate the sum for each row\n",
    "row_sum = info_nuggets_parent_children.drop_duplicates(subset=('utterance_id')).groupby('parent_info_need').sum().loc[:,'excel_how_to':'stack_excahnge'].sum(axis=1)\n"
   ]
  },
  {
   "cell_type": "code",
   "execution_count": 915,
   "id": "9aec7f3f-4a91-449d-bd9c-b58cb15f03ff",
   "metadata": {},
   "outputs": [
    {
     "name": "stdout",
     "output_type": "stream",
     "text": [
      "Column Sums:\n",
      "excel_how_to      257\n",
      "excel_recipe       54\n",
      "wikipedia         115\n",
      "serious_eats       39\n",
      "stack_excahnge     39\n",
      "dtype: int64\n",
      "\n",
      "Row Sums:\n",
      "parent_info_need\n",
      "amount                13\n",
      "cooking_technique     37\n",
      "equipment             27\n",
      "ingredient           105\n",
      "knowledge            240\n",
      "meal                   9\n",
      "misc                   0\n",
      "preparation           29\n",
      "recipe                10\n",
      "temperature           11\n",
      "time                  23\n",
      "dtype: int64\n"
     ]
    }
   ],
   "source": [
    "print(\"Column Sums:\")\n",
    "print(column_sum)\n",
    "print(\"\\nRow Sums:\")\n",
    "print(row_sum)"
   ]
  },
  {
   "cell_type": "code",
   "execution_count": 916,
   "id": "1419ab52-cdd4-4801-8339-b5a89ef95a37",
   "metadata": {},
   "outputs": [
    {
     "data": {
      "text/html": [
       "<div>\n",
       "<style scoped>\n",
       "    .dataframe tbody tr th:only-of-type {\n",
       "        vertical-align: middle;\n",
       "    }\n",
       "\n",
       "    .dataframe tbody tr th {\n",
       "        vertical-align: top;\n",
       "    }\n",
       "\n",
       "    .dataframe thead th {\n",
       "        text-align: right;\n",
       "    }\n",
       "</style>\n",
       "<table border=\"1\" class=\"dataframe\">\n",
       "  <thead>\n",
       "    <tr style=\"text-align: right;\">\n",
       "      <th></th>\n",
       "      <th>excel_how_to</th>\n",
       "      <th>excel_recipe</th>\n",
       "      <th>wikipedia</th>\n",
       "      <th>serious_eats</th>\n",
       "      <th>stack_excahnge</th>\n",
       "    </tr>\n",
       "    <tr>\n",
       "      <th>parent_info_need</th>\n",
       "      <th></th>\n",
       "      <th></th>\n",
       "      <th></th>\n",
       "      <th></th>\n",
       "      <th></th>\n",
       "    </tr>\n",
       "  </thead>\n",
       "  <tbody>\n",
       "    <tr>\n",
       "      <th>amount</th>\n",
       "      <td>3</td>\n",
       "      <td>6</td>\n",
       "      <td>2</td>\n",
       "      <td>0</td>\n",
       "      <td>2</td>\n",
       "    </tr>\n",
       "    <tr>\n",
       "      <th>cooking_technique</th>\n",
       "      <td>18</td>\n",
       "      <td>2</td>\n",
       "      <td>3</td>\n",
       "      <td>11</td>\n",
       "      <td>3</td>\n",
       "    </tr>\n",
       "    <tr>\n",
       "      <th>equipment</th>\n",
       "      <td>12</td>\n",
       "      <td>4</td>\n",
       "      <td>6</td>\n",
       "      <td>3</td>\n",
       "      <td>2</td>\n",
       "    </tr>\n",
       "    <tr>\n",
       "      <th>ingredient</th>\n",
       "      <td>48</td>\n",
       "      <td>9</td>\n",
       "      <td>28</td>\n",
       "      <td>10</td>\n",
       "      <td>10</td>\n",
       "    </tr>\n",
       "    <tr>\n",
       "      <th>meal</th>\n",
       "      <td>3</td>\n",
       "      <td>0</td>\n",
       "      <td>6</td>\n",
       "      <td>0</td>\n",
       "      <td>0</td>\n",
       "    </tr>\n",
       "    <tr>\n",
       "      <th>misc</th>\n",
       "      <td>0</td>\n",
       "      <td>0</td>\n",
       "      <td>0</td>\n",
       "      <td>0</td>\n",
       "      <td>0</td>\n",
       "    </tr>\n",
       "    <tr>\n",
       "      <th>preparation</th>\n",
       "      <td>13</td>\n",
       "      <td>15</td>\n",
       "      <td>0</td>\n",
       "      <td>0</td>\n",
       "      <td>1</td>\n",
       "    </tr>\n",
       "    <tr>\n",
       "      <th>recipe</th>\n",
       "      <td>4</td>\n",
       "      <td>1</td>\n",
       "      <td>4</td>\n",
       "      <td>1</td>\n",
       "      <td>0</td>\n",
       "    </tr>\n",
       "    <tr>\n",
       "      <th>temperature</th>\n",
       "      <td>4</td>\n",
       "      <td>2</td>\n",
       "      <td>5</td>\n",
       "      <td>0</td>\n",
       "      <td>0</td>\n",
       "    </tr>\n",
       "    <tr>\n",
       "      <th>time</th>\n",
       "      <td>5</td>\n",
       "      <td>8</td>\n",
       "      <td>1</td>\n",
       "      <td>3</td>\n",
       "      <td>6</td>\n",
       "    </tr>\n",
       "  </tbody>\n",
       "</table>\n",
       "</div>"
      ],
      "text/plain": [
       "                   excel_how_to  excel_recipe  wikipedia  serious_eats  \\\n",
       "parent_info_need                                                         \n",
       "amount                        3             6          2             0   \n",
       "cooking_technique            18             2          3            11   \n",
       "equipment                    12             4          6             3   \n",
       "ingredient                   48             9         28            10   \n",
       "meal                          3             0          6             0   \n",
       "misc                          0             0          0             0   \n",
       "preparation                  13            15          0             0   \n",
       "recipe                        4             1          4             1   \n",
       "temperature                   4             2          5             0   \n",
       "time                          5             8          1             3   \n",
       "\n",
       "                   stack_excahnge  \n",
       "parent_info_need                   \n",
       "amount                          2  \n",
       "cooking_technique               3  \n",
       "equipment                       2  \n",
       "ingredient                     10  \n",
       "meal                            0  \n",
       "misc                            0  \n",
       "preparation                     1  \n",
       "recipe                          0  \n",
       "temperature                     0  \n",
       "time                            6  "
      ]
     },
     "execution_count": 916,
     "metadata": {},
     "output_type": "execute_result"
    }
   ],
   "source": [
    "process_answer_sources"
   ]
  },
  {
   "cell_type": "code",
   "execution_count": 917,
   "id": "5965d3dc-abf4-4b55-86be-efacb9e326f1",
   "metadata": {},
   "outputs": [
    {
     "data": {
      "text/plain": [
       "(excel_how_to      110\n",
       " excel_recipe       47\n",
       " wikipedia          55\n",
       " serious_eats       28\n",
       " stack_excahnge     24\n",
       " dtype: int64,\n",
       " parent_info_need\n",
       " amount                13\n",
       " cooking_technique     37\n",
       " equipment             27\n",
       " ingredient           105\n",
       " meal                   9\n",
       " misc                   0\n",
       " preparation           29\n",
       " recipe                10\n",
       " temperature           11\n",
       " time                  23\n",
       " dtype: int64)"
      ]
     },
     "execution_count": 917,
     "metadata": {},
     "output_type": "execute_result"
    }
   ],
   "source": [
    "# Calculate the sum for each column\n",
    "process_column_sum = process_answer_sources.sum(axis=0)\n",
    "# Calculate the sum for each row\n",
    "process_row_sum = process_answer_sources.sum(axis=1)\n",
    "process_column_sum, process_row_sum"
   ]
  },
  {
   "cell_type": "code",
   "execution_count": 918,
   "id": "6f62e1bd-fd95-45c9-ab7a-43f808bc6c33",
   "metadata": {},
   "outputs": [
    {
     "data": {
      "text/html": [
       "<div>\n",
       "<style scoped>\n",
       "    .dataframe tbody tr th:only-of-type {\n",
       "        vertical-align: middle;\n",
       "    }\n",
       "\n",
       "    .dataframe tbody tr th {\n",
       "        vertical-align: top;\n",
       "    }\n",
       "\n",
       "    .dataframe thead th {\n",
       "        text-align: right;\n",
       "    }\n",
       "</style>\n",
       "<table border=\"1\" class=\"dataframe\">\n",
       "  <thead>\n",
       "    <tr style=\"text-align: right;\">\n",
       "      <th></th>\n",
       "      <th>excel_how_to</th>\n",
       "      <th>excel_recipe</th>\n",
       "      <th>wikipedia</th>\n",
       "      <th>serious_eats</th>\n",
       "      <th>stack_excahnge</th>\n",
       "    </tr>\n",
       "    <tr>\n",
       "      <th>parent_info_need_subtype</th>\n",
       "      <th></th>\n",
       "      <th></th>\n",
       "      <th></th>\n",
       "      <th></th>\n",
       "      <th></th>\n",
       "    </tr>\n",
       "  </thead>\n",
       "  <tbody>\n",
       "    <tr>\n",
       "      <th>equipment</th>\n",
       "      <td>6</td>\n",
       "      <td>0</td>\n",
       "      <td>2</td>\n",
       "      <td>2</td>\n",
       "      <td>1</td>\n",
       "    </tr>\n",
       "    <tr>\n",
       "      <th>history</th>\n",
       "      <td>12</td>\n",
       "      <td>0</td>\n",
       "      <td>46</td>\n",
       "      <td>1</td>\n",
       "      <td>1</td>\n",
       "    </tr>\n",
       "    <tr>\n",
       "      <th>ingredient</th>\n",
       "      <td>6</td>\n",
       "      <td>0</td>\n",
       "      <td>2</td>\n",
       "      <td>0</td>\n",
       "      <td>0</td>\n",
       "    </tr>\n",
       "    <tr>\n",
       "      <th>recipe</th>\n",
       "      <td>2</td>\n",
       "      <td>0</td>\n",
       "      <td>1</td>\n",
       "      <td>0</td>\n",
       "      <td>0</td>\n",
       "    </tr>\n",
       "    <tr>\n",
       "      <th>science</th>\n",
       "      <td>52</td>\n",
       "      <td>1</td>\n",
       "      <td>7</td>\n",
       "      <td>3</td>\n",
       "      <td>8</td>\n",
       "    </tr>\n",
       "    <tr>\n",
       "      <th>step_importance</th>\n",
       "      <td>66</td>\n",
       "      <td>6</td>\n",
       "      <td>2</td>\n",
       "      <td>5</td>\n",
       "      <td>5</td>\n",
       "    </tr>\n",
       "    <tr>\n",
       "      <th>temperature</th>\n",
       "      <td>1</td>\n",
       "      <td>0</td>\n",
       "      <td>0</td>\n",
       "      <td>0</td>\n",
       "      <td>0</td>\n",
       "    </tr>\n",
       "    <tr>\n",
       "      <th>time</th>\n",
       "      <td>2</td>\n",
       "      <td>0</td>\n",
       "      <td>0</td>\n",
       "      <td>0</td>\n",
       "      <td>0</td>\n",
       "    </tr>\n",
       "  </tbody>\n",
       "</table>\n",
       "</div>"
      ],
      "text/plain": [
       "                          excel_how_to  excel_recipe  wikipedia  serious_eats  \\\n",
       "parent_info_need_subtype                                                        \n",
       "equipment                            6             0          2             2   \n",
       "history                             12             0         46             1   \n",
       "ingredient                           6             0          2             0   \n",
       "recipe                               2             0          1             0   \n",
       "science                             52             1          7             3   \n",
       "step_importance                     66             6          2             5   \n",
       "temperature                          1             0          0             0   \n",
       "time                                 2             0          0             0   \n",
       "\n",
       "                          stack_excahnge  \n",
       "parent_info_need_subtype                  \n",
       "equipment                              1  \n",
       "history                                1  \n",
       "ingredient                             0  \n",
       "recipe                                 0  \n",
       "science                                8  \n",
       "step_importance                        5  \n",
       "temperature                            0  \n",
       "time                                   0  "
      ]
     },
     "execution_count": 918,
     "metadata": {},
     "output_type": "execute_result"
    }
   ],
   "source": [
    "knowledge_answer_sources"
   ]
  },
  {
   "cell_type": "code",
   "execution_count": 919,
   "id": "4708b27c-73ed-491f-bd1c-2739c68ae8ea",
   "metadata": {},
   "outputs": [
    {
     "data": {
      "text/plain": [
       "(excel_how_to      147\n",
       " excel_recipe        7\n",
       " wikipedia          60\n",
       " serious_eats       11\n",
       " stack_excahnge     15\n",
       " dtype: int64,\n",
       " parent_info_need_subtype\n",
       " equipment          11\n",
       " history            60\n",
       " ingredient          8\n",
       " recipe              3\n",
       " science            71\n",
       " step_importance    84\n",
       " temperature         1\n",
       " time                2\n",
       " dtype: int64)"
      ]
     },
     "execution_count": 919,
     "metadata": {},
     "output_type": "execute_result"
    }
   ],
   "source": [
    "# Calculate the sum for each column\n",
    "knowledge_column_sum = knowledge_answer_sources.sum(axis=0)\n",
    "# Calculate the sum for each row\n",
    "knowledge_row_sum = knowledge_answer_sources.sum(axis=1)\n",
    "knowledge_column_sum, knowledge_row_sum"
   ]
  },
  {
   "cell_type": "code",
   "execution_count": 920,
   "id": "36481ecc-102b-4f29-8bd8-71f950bcf377",
   "metadata": {},
   "outputs": [
    {
     "data": {
      "text/html": [
       "<div>\n",
       "<style scoped>\n",
       "    .dataframe tbody tr th:only-of-type {\n",
       "        vertical-align: middle;\n",
       "    }\n",
       "\n",
       "    .dataframe tbody tr th {\n",
       "        vertical-align: top;\n",
       "    }\n",
       "\n",
       "    .dataframe thead th {\n",
       "        text-align: right;\n",
       "    }\n",
       "</style>\n",
       "<table border=\"1\" class=\"dataframe\">\n",
       "  <thead>\n",
       "    <tr style=\"text-align: right;\">\n",
       "      <th></th>\n",
       "      <th>excel_how_to</th>\n",
       "      <th>excel_recipe</th>\n",
       "      <th>wikipedia</th>\n",
       "      <th>serious_eats</th>\n",
       "      <th>stack_excahnge</th>\n",
       "    </tr>\n",
       "    <tr>\n",
       "      <th>overall_info_need_type</th>\n",
       "      <th></th>\n",
       "      <th></th>\n",
       "      <th></th>\n",
       "      <th></th>\n",
       "      <th></th>\n",
       "    </tr>\n",
       "  </thead>\n",
       "  <tbody>\n",
       "    <tr>\n",
       "      <th>knowledge</th>\n",
       "      <td>147</td>\n",
       "      <td>7</td>\n",
       "      <td>60</td>\n",
       "      <td>11</td>\n",
       "      <td>15</td>\n",
       "    </tr>\n",
       "    <tr>\n",
       "      <th>process</th>\n",
       "      <td>110</td>\n",
       "      <td>47</td>\n",
       "      <td>55</td>\n",
       "      <td>28</td>\n",
       "      <td>24</td>\n",
       "    </tr>\n",
       "  </tbody>\n",
       "</table>\n",
       "</div>"
      ],
      "text/plain": [
       "                        excel_how_to  excel_recipe  wikipedia  serious_eats  \\\n",
       "overall_info_need_type                                                        \n",
       "knowledge                        147             7         60            11   \n",
       "process                          110            47         55            28   \n",
       "\n",
       "                        stack_excahnge  \n",
       "overall_info_need_type                  \n",
       "knowledge                           15  \n",
       "process                             24  "
      ]
     },
     "execution_count": 920,
     "metadata": {},
     "output_type": "execute_result"
    }
   ],
   "source": [
    "all_answers.groupby('overall_info_need_type').sum().loc[:,'excel_how_to':'stack_excahnge']"
   ]
  },
  {
   "cell_type": "code",
   "execution_count": 921,
   "id": "95120e0a-0cb2-47ea-a7ed-4619570a6c26",
   "metadata": {},
   "outputs": [
    {
     "data": {
      "text/plain": [
       "(excel_how_to      257\n",
       " excel_recipe       54\n",
       " wikipedia         115\n",
       " serious_eats       39\n",
       " stack_excahnge     39\n",
       " dtype: int64,\n",
       " overall_info_need_type\n",
       " knowledge    240\n",
       " process      264\n",
       " dtype: int64)"
      ]
     },
     "execution_count": 921,
     "metadata": {},
     "output_type": "execute_result"
    }
   ],
   "source": [
    "# Calculate the sum for each column\n",
    "all_answers_column_sum = all_answers.groupby('overall_info_need_type').sum().loc[:,'excel_how_to':'stack_excahnge'].sum(axis=0)\n",
    "# Calculate the sum for each row\n",
    "all_answers_row_sum = all_answers.groupby('overall_info_need_type').sum().loc[:,'excel_how_to':'stack_excahnge'].sum(axis=1)\n",
    "all_answers_column_sum, all_answers_row_sum"
   ]
  },
  {
   "cell_type": "markdown",
   "id": "4e553b42-cffa-4d1a-8a01-832cb495525b",
   "metadata": {},
   "source": [
    "# 6. How long are user/agent utterances?\n",
    "\n",
    "Here, we want to investigate how long user/agent utterances are in terms of characters/words. We also want to know if there are **significant** differences in utterance lenghts."
   ]
  },
  {
   "cell_type": "code",
   "execution_count": 924,
   "id": "008672ae-db21-43c1-be77-a26a9044fae3",
   "metadata": {},
   "outputs": [
    {
     "data": {
      "text/html": [
       "<div>\n",
       "<style scoped>\n",
       "    .dataframe tbody tr th:only-of-type {\n",
       "        vertical-align: middle;\n",
       "    }\n",
       "\n",
       "    .dataframe tbody tr th {\n",
       "        vertical-align: top;\n",
       "    }\n",
       "\n",
       "    .dataframe thead th {\n",
       "        text-align: right;\n",
       "    }\n",
       "</style>\n",
       "<table border=\"1\" class=\"dataframe\">\n",
       "  <thead>\n",
       "    <tr style=\"text-align: right;\">\n",
       "      <th></th>\n",
       "      <th>conv_id</th>\n",
       "      <th>condition</th>\n",
       "      <th>utterance_id</th>\n",
       "      <th>participant</th>\n",
       "      <th>length_char</th>\n",
       "      <th>length_words</th>\n",
       "      <th>utterance</th>\n",
       "    </tr>\n",
       "  </thead>\n",
       "  <tbody>\n",
       "    <tr>\n",
       "      <th>0</th>\n",
       "      <td>o9UbVjHVrS</td>\n",
       "      <td>active</td>\n",
       "      <td>-NBM4Po72yJo9OVy-leY</td>\n",
       "      <td>agent</td>\n",
       "      <td>259</td>\n",
       "      <td>47</td>\n",
       "      <td>Hey there! Happy to have you on board for our ...</td>\n",
       "    </tr>\n",
       "    <tr>\n",
       "      <th>1</th>\n",
       "      <td>o9UbVjHVrS</td>\n",
       "      <td>active</td>\n",
       "      <td>-NBM4S96oY29x6vyunqZ</td>\n",
       "      <td>user</td>\n",
       "      <td>5</td>\n",
       "      <td>1</td>\n",
       "      <td>start</td>\n",
       "    </tr>\n",
       "    <tr>\n",
       "      <th>2</th>\n",
       "      <td>o9UbVjHVrS</td>\n",
       "      <td>active</td>\n",
       "      <td>-NBM4Vc_a2KIh2KpZR27</td>\n",
       "      <td>agent</td>\n",
       "      <td>30</td>\n",
       "      <td>6</td>\n",
       "      <td>Hello.  How can I help you? :)</td>\n",
       "    </tr>\n",
       "    <tr>\n",
       "      <th>3</th>\n",
       "      <td>o9UbVjHVrS</td>\n",
       "      <td>active</td>\n",
       "      <td>-NBM4d-O2nP6qoZ2zi-G</td>\n",
       "      <td>user</td>\n",
       "      <td>26</td>\n",
       "      <td>5</td>\n",
       "      <td>ok, what's the first step?</td>\n",
       "    </tr>\n",
       "    <tr>\n",
       "      <th>4</th>\n",
       "      <td>o9UbVjHVrS</td>\n",
       "      <td>active</td>\n",
       "      <td>-NBM4ihrwHLmCiybGdRW</td>\n",
       "      <td>agent</td>\n",
       "      <td>13</td>\n",
       "      <td>3</td>\n",
       "      <td>I'll show you</td>\n",
       "    </tr>\n",
       "  </tbody>\n",
       "</table>\n",
       "</div>"
      ],
      "text/plain": [
       "      conv_id condition          utterance_id participant  length_char  \\\n",
       "0  o9UbVjHVrS    active  -NBM4Po72yJo9OVy-leY       agent          259   \n",
       "1  o9UbVjHVrS    active  -NBM4S96oY29x6vyunqZ        user            5   \n",
       "2  o9UbVjHVrS    active  -NBM4Vc_a2KIh2KpZR27       agent           30   \n",
       "3  o9UbVjHVrS    active  -NBM4d-O2nP6qoZ2zi-G        user           26   \n",
       "4  o9UbVjHVrS    active  -NBM4ihrwHLmCiybGdRW       agent           13   \n",
       "\n",
       "   length_words                                          utterance  \n",
       "0            47  Hey there! Happy to have you on board for our ...  \n",
       "1             1                                              start  \n",
       "2             6                     Hello.  How can I help you? :)  \n",
       "3             5                         ok, what's the first step?  \n",
       "4             3                                      I'll show you  "
      ]
     },
     "execution_count": 924,
     "metadata": {},
     "output_type": "execute_result"
    }
   ],
   "source": [
    "utterance_lengths = pd.read_csv(\"data_nugget_analysis/woz_data_analysis_files/avg_convs_length_full.tsv\", delimiter=\"\\t\", index_col=False)\n",
    "utterance_lengths.head()"
   ]
  },
  {
   "cell_type": "code",
   "execution_count": 925,
   "id": "13a5818e-fdd8-4ab2-9169-13e7a27af982",
   "metadata": {},
   "outputs": [],
   "source": [
    "active_agent = utterance_lengths[(utterance_lengths['condition']=='active')&(utterance_lengths['participant']=='agent')]\n",
    "active_user = utterance_lengths[(utterance_lengths['condition']=='active')&(utterance_lengths['participant']=='user')]\n",
    "passive_agent = utterance_lengths[(utterance_lengths['condition']=='passive')&(utterance_lengths['participant']=='agent')]\n",
    "passive_user = utterance_lengths[(utterance_lengths['condition']=='passive')&(utterance_lengths['participant']=='user')]\n"
   ]
  },
  {
   "cell_type": "code",
   "execution_count": 926,
   "id": "f8405553-c52b-4989-b73a-eea2054428f0",
   "metadata": {},
   "outputs": [
    {
     "data": {
      "text/plain": [
       "MannwhitneyuResult(statistic=180794.5, pvalue=0.45330225546930114)"
      ]
     },
     "execution_count": 926,
     "metadata": {},
     "output_type": "execute_result"
    }
   ],
   "source": [
    "stats.mannwhitneyu(active_agent['length_words'], passive_agent['length_words'])"
   ]
  },
  {
   "cell_type": "code",
   "execution_count": 927,
   "id": "24a7a479-43b4-453c-9ae9-c395737c5454",
   "metadata": {},
   "outputs": [
    {
     "data": {
      "text/html": [
       "<div>\n",
       "<style scoped>\n",
       "    .dataframe tbody tr th:only-of-type {\n",
       "        vertical-align: middle;\n",
       "    }\n",
       "\n",
       "    .dataframe tbody tr th {\n",
       "        vertical-align: top;\n",
       "    }\n",
       "\n",
       "    .dataframe thead th {\n",
       "        text-align: right;\n",
       "    }\n",
       "</style>\n",
       "<table border=\"1\" class=\"dataframe\">\n",
       "  <thead>\n",
       "    <tr style=\"text-align: right;\">\n",
       "      <th></th>\n",
       "      <th>length_char</th>\n",
       "      <th>length_words</th>\n",
       "    </tr>\n",
       "  </thead>\n",
       "  <tbody>\n",
       "    <tr>\n",
       "      <th>count</th>\n",
       "      <td>958.000000</td>\n",
       "      <td>958.000000</td>\n",
       "    </tr>\n",
       "    <tr>\n",
       "      <th>mean</th>\n",
       "      <td>131.643006</td>\n",
       "      <td>23.586639</td>\n",
       "    </tr>\n",
       "    <tr>\n",
       "      <th>std</th>\n",
       "      <td>162.212027</td>\n",
       "      <td>28.187206</td>\n",
       "    </tr>\n",
       "    <tr>\n",
       "      <th>min</th>\n",
       "      <td>3.000000</td>\n",
       "      <td>1.000000</td>\n",
       "    </tr>\n",
       "    <tr>\n",
       "      <th>25%</th>\n",
       "      <td>38.000000</td>\n",
       "      <td>8.000000</td>\n",
       "    </tr>\n",
       "    <tr>\n",
       "      <th>50%</th>\n",
       "      <td>74.000000</td>\n",
       "      <td>14.000000</td>\n",
       "    </tr>\n",
       "    <tr>\n",
       "      <th>75%</th>\n",
       "      <td>170.750000</td>\n",
       "      <td>30.000000</td>\n",
       "    </tr>\n",
       "    <tr>\n",
       "      <th>max</th>\n",
       "      <td>2035.000000</td>\n",
       "      <td>369.000000</td>\n",
       "    </tr>\n",
       "  </tbody>\n",
       "</table>\n",
       "</div>"
      ],
      "text/plain": [
       "       length_char  length_words\n",
       "count   958.000000    958.000000\n",
       "mean    131.643006     23.586639\n",
       "std     162.212027     28.187206\n",
       "min       3.000000      1.000000\n",
       "25%      38.000000      8.000000\n",
       "50%      74.000000     14.000000\n",
       "75%     170.750000     30.000000\n",
       "max    2035.000000    369.000000"
      ]
     },
     "execution_count": 927,
     "metadata": {},
     "output_type": "execute_result"
    }
   ],
   "source": [
    "active_agent.describe()"
   ]
  },
  {
   "cell_type": "code",
   "execution_count": 928,
   "id": "1cca94ab-15c4-4c61-8ae3-94c6ba00c192",
   "metadata": {},
   "outputs": [
    {
     "data": {
      "text/html": [
       "<div>\n",
       "<style scoped>\n",
       "    .dataframe tbody tr th:only-of-type {\n",
       "        vertical-align: middle;\n",
       "    }\n",
       "\n",
       "    .dataframe tbody tr th {\n",
       "        vertical-align: top;\n",
       "    }\n",
       "\n",
       "    .dataframe thead th {\n",
       "        text-align: right;\n",
       "    }\n",
       "</style>\n",
       "<table border=\"1\" class=\"dataframe\">\n",
       "  <thead>\n",
       "    <tr style=\"text-align: right;\">\n",
       "      <th></th>\n",
       "      <th>length_char</th>\n",
       "      <th>length_words</th>\n",
       "    </tr>\n",
       "  </thead>\n",
       "  <tbody>\n",
       "    <tr>\n",
       "      <th>count</th>\n",
       "      <td>379.000000</td>\n",
       "      <td>379.000000</td>\n",
       "    </tr>\n",
       "    <tr>\n",
       "      <th>mean</th>\n",
       "      <td>142.736148</td>\n",
       "      <td>25.591029</td>\n",
       "    </tr>\n",
       "    <tr>\n",
       "      <th>std</th>\n",
       "      <td>164.480951</td>\n",
       "      <td>27.980417</td>\n",
       "    </tr>\n",
       "    <tr>\n",
       "      <th>min</th>\n",
       "      <td>2.000000</td>\n",
       "      <td>1.000000</td>\n",
       "    </tr>\n",
       "    <tr>\n",
       "      <th>25%</th>\n",
       "      <td>35.000000</td>\n",
       "      <td>7.000000</td>\n",
       "    </tr>\n",
       "    <tr>\n",
       "      <th>50%</th>\n",
       "      <td>58.000000</td>\n",
       "      <td>12.000000</td>\n",
       "    </tr>\n",
       "    <tr>\n",
       "      <th>75%</th>\n",
       "      <td>240.500000</td>\n",
       "      <td>40.000000</td>\n",
       "    </tr>\n",
       "    <tr>\n",
       "      <th>max</th>\n",
       "      <td>959.000000</td>\n",
       "      <td>177.000000</td>\n",
       "    </tr>\n",
       "  </tbody>\n",
       "</table>\n",
       "</div>"
      ],
      "text/plain": [
       "       length_char  length_words\n",
       "count   379.000000    379.000000\n",
       "mean    142.736148     25.591029\n",
       "std     164.480951     27.980417\n",
       "min       2.000000      1.000000\n",
       "25%      35.000000      7.000000\n",
       "50%      58.000000     12.000000\n",
       "75%     240.500000     40.000000\n",
       "max     959.000000    177.000000"
      ]
     },
     "execution_count": 928,
     "metadata": {},
     "output_type": "execute_result"
    }
   ],
   "source": [
    "passive_agent.describe()"
   ]
  },
  {
   "cell_type": "code",
   "execution_count": 929,
   "id": "fd91e5ce-052d-4266-9851-d590ae8aa8fc",
   "metadata": {},
   "outputs": [
    {
     "data": {
      "text/plain": [
       "MannwhitneyuResult(statistic=260656.0, pvalue=0.18994504985174737)"
      ]
     },
     "execution_count": 929,
     "metadata": {},
     "output_type": "execute_result"
    }
   ],
   "source": [
    "stats.mannwhitneyu(active_user['length_words'], passive_user['length_words'])"
   ]
  },
  {
   "cell_type": "code",
   "execution_count": 930,
   "id": "192d18fa-f155-44bb-9878-6b871aad66c4",
   "metadata": {},
   "outputs": [
    {
     "data": {
      "text/html": [
       "<div>\n",
       "<style scoped>\n",
       "    .dataframe tbody tr th:only-of-type {\n",
       "        vertical-align: middle;\n",
       "    }\n",
       "\n",
       "    .dataframe tbody tr th {\n",
       "        vertical-align: top;\n",
       "    }\n",
       "\n",
       "    .dataframe thead th {\n",
       "        text-align: right;\n",
       "    }\n",
       "</style>\n",
       "<table border=\"1\" class=\"dataframe\">\n",
       "  <thead>\n",
       "    <tr style=\"text-align: right;\">\n",
       "      <th></th>\n",
       "      <th>length_char</th>\n",
       "      <th>length_words</th>\n",
       "    </tr>\n",
       "  </thead>\n",
       "  <tbody>\n",
       "    <tr>\n",
       "      <th>count</th>\n",
       "      <td>923.000000</td>\n",
       "      <td>923.000000</td>\n",
       "    </tr>\n",
       "    <tr>\n",
       "      <th>mean</th>\n",
       "      <td>26.004334</td>\n",
       "      <td>5.251354</td>\n",
       "    </tr>\n",
       "    <tr>\n",
       "      <th>std</th>\n",
       "      <td>27.894401</td>\n",
       "      <td>5.386543</td>\n",
       "    </tr>\n",
       "    <tr>\n",
       "      <th>min</th>\n",
       "      <td>1.000000</td>\n",
       "      <td>0.000000</td>\n",
       "    </tr>\n",
       "    <tr>\n",
       "      <th>25%</th>\n",
       "      <td>4.000000</td>\n",
       "      <td>1.000000</td>\n",
       "    </tr>\n",
       "    <tr>\n",
       "      <th>50%</th>\n",
       "      <td>17.000000</td>\n",
       "      <td>3.000000</td>\n",
       "    </tr>\n",
       "    <tr>\n",
       "      <th>75%</th>\n",
       "      <td>38.000000</td>\n",
       "      <td>8.000000</td>\n",
       "    </tr>\n",
       "    <tr>\n",
       "      <th>max</th>\n",
       "      <td>247.000000</td>\n",
       "      <td>46.000000</td>\n",
       "    </tr>\n",
       "  </tbody>\n",
       "</table>\n",
       "</div>"
      ],
      "text/plain": [
       "       length_char  length_words\n",
       "count   923.000000    923.000000\n",
       "mean     26.004334      5.251354\n",
       "std      27.894401      5.386543\n",
       "min       1.000000      0.000000\n",
       "25%       4.000000      1.000000\n",
       "50%      17.000000      3.000000\n",
       "75%      38.000000      8.000000\n",
       "max     247.000000     46.000000"
      ]
     },
     "execution_count": 930,
     "metadata": {},
     "output_type": "execute_result"
    }
   ],
   "source": [
    "active_user.describe()"
   ]
  },
  {
   "cell_type": "code",
   "execution_count": 931,
   "id": "25eafde1-5327-411a-9037-29258d98e56f",
   "metadata": {},
   "outputs": [
    {
     "data": {
      "text/html": [
       "<div>\n",
       "<style scoped>\n",
       "    .dataframe tbody tr th:only-of-type {\n",
       "        vertical-align: middle;\n",
       "    }\n",
       "\n",
       "    .dataframe tbody tr th {\n",
       "        vertical-align: top;\n",
       "    }\n",
       "\n",
       "    .dataframe thead th {\n",
       "        text-align: right;\n",
       "    }\n",
       "</style>\n",
       "<table border=\"1\" class=\"dataframe\">\n",
       "  <thead>\n",
       "    <tr style=\"text-align: right;\">\n",
       "      <th></th>\n",
       "      <th>length_char</th>\n",
       "      <th>length_words</th>\n",
       "    </tr>\n",
       "  </thead>\n",
       "  <tbody>\n",
       "    <tr>\n",
       "      <th>count</th>\n",
       "      <td>580.000000</td>\n",
       "      <td>580.000000</td>\n",
       "    </tr>\n",
       "    <tr>\n",
       "      <th>mean</th>\n",
       "      <td>26.144828</td>\n",
       "      <td>5.396552</td>\n",
       "    </tr>\n",
       "    <tr>\n",
       "      <th>std</th>\n",
       "      <td>31.292255</td>\n",
       "      <td>6.065388</td>\n",
       "    </tr>\n",
       "    <tr>\n",
       "      <th>min</th>\n",
       "      <td>2.000000</td>\n",
       "      <td>1.000000</td>\n",
       "    </tr>\n",
       "    <tr>\n",
       "      <th>25%</th>\n",
       "      <td>4.000000</td>\n",
       "      <td>1.000000</td>\n",
       "    </tr>\n",
       "    <tr>\n",
       "      <th>50%</th>\n",
       "      <td>12.000000</td>\n",
       "      <td>3.000000</td>\n",
       "    </tr>\n",
       "    <tr>\n",
       "      <th>75%</th>\n",
       "      <td>38.250000</td>\n",
       "      <td>8.000000</td>\n",
       "    </tr>\n",
       "    <tr>\n",
       "      <th>max</th>\n",
       "      <td>314.000000</td>\n",
       "      <td>54.000000</td>\n",
       "    </tr>\n",
       "  </tbody>\n",
       "</table>\n",
       "</div>"
      ],
      "text/plain": [
       "       length_char  length_words\n",
       "count   580.000000    580.000000\n",
       "mean     26.144828      5.396552\n",
       "std      31.292255      6.065388\n",
       "min       2.000000      1.000000\n",
       "25%       4.000000      1.000000\n",
       "50%      12.000000      3.000000\n",
       "75%      38.250000      8.000000\n",
       "max     314.000000     54.000000"
      ]
     },
     "execution_count": 931,
     "metadata": {},
     "output_type": "execute_result"
    }
   ],
   "source": [
    "passive_user.describe()"
   ]
  },
  {
   "cell_type": "markdown",
   "id": "2981e707-d0e3-4e29-adee-b85743fb72d4",
   "metadata": {},
   "source": [
    "# 7. How long are conversations?\n",
    "\n",
    "We measure this by counting the amount of utterances conveyed in each conversation. We investigate length differences in the active and passive condition."
   ]
  },
  {
   "cell_type": "code",
   "execution_count": 932,
   "id": "484adf17-bd73-4d97-8737-fe7bad5add5b",
   "metadata": {},
   "outputs": [
    {
     "data": {
      "text/html": [
       "<div>\n",
       "<style scoped>\n",
       "    .dataframe tbody tr th:only-of-type {\n",
       "        vertical-align: middle;\n",
       "    }\n",
       "\n",
       "    .dataframe tbody tr th {\n",
       "        vertical-align: top;\n",
       "    }\n",
       "\n",
       "    .dataframe thead th {\n",
       "        text-align: right;\n",
       "    }\n",
       "</style>\n",
       "<table border=\"1\" class=\"dataframe\">\n",
       "  <thead>\n",
       "    <tr style=\"text-align: right;\">\n",
       "      <th></th>\n",
       "      <th>conv_id</th>\n",
       "      <th>condition</th>\n",
       "      <th>n_user_utterances</th>\n",
       "      <th>n_agent_utterances</th>\n",
       "      <th>total_n_utterances</th>\n",
       "    </tr>\n",
       "  </thead>\n",
       "  <tbody>\n",
       "    <tr>\n",
       "      <th>0</th>\n",
       "      <td>o9UbVjHVrS</td>\n",
       "      <td>active</td>\n",
       "      <td>29</td>\n",
       "      <td>51</td>\n",
       "      <td>80</td>\n",
       "    </tr>\n",
       "    <tr>\n",
       "      <th>1</th>\n",
       "      <td>rEG2v4CE7m</td>\n",
       "      <td>active</td>\n",
       "      <td>74</td>\n",
       "      <td>50</td>\n",
       "      <td>124</td>\n",
       "    </tr>\n",
       "    <tr>\n",
       "      <th>2</th>\n",
       "      <td>XYjHSL2Ky3</td>\n",
       "      <td>active</td>\n",
       "      <td>26</td>\n",
       "      <td>39</td>\n",
       "      <td>65</td>\n",
       "    </tr>\n",
       "    <tr>\n",
       "      <th>3</th>\n",
       "      <td>8nJXjVjBTQ</td>\n",
       "      <td>active</td>\n",
       "      <td>42</td>\n",
       "      <td>48</td>\n",
       "      <td>90</td>\n",
       "    </tr>\n",
       "    <tr>\n",
       "      <th>4</th>\n",
       "      <td>5ed91d3f31d9c60a8ac27018</td>\n",
       "      <td>active</td>\n",
       "      <td>24</td>\n",
       "      <td>44</td>\n",
       "      <td>68</td>\n",
       "    </tr>\n",
       "  </tbody>\n",
       "</table>\n",
       "</div>"
      ],
      "text/plain": [
       "                    conv_id condition  n_user_utterances  n_agent_utterances  \\\n",
       "0                o9UbVjHVrS    active                 29                  51   \n",
       "1                rEG2v4CE7m    active                 74                  50   \n",
       "2                XYjHSL2Ky3    active                 26                  39   \n",
       "3                8nJXjVjBTQ    active                 42                  48   \n",
       "4  5ed91d3f31d9c60a8ac27018    active                 24                  44   \n",
       "\n",
       "   total_n_utterances  \n",
       "0                  80  \n",
       "1                 124  \n",
       "2                  65  \n",
       "3                  90  \n",
       "4                  68  "
      ]
     },
     "execution_count": 932,
     "metadata": {},
     "output_type": "execute_result"
    }
   ],
   "source": [
    "conversation_lengths = pd.read_csv(\"data_nugget_analysis/woz_data_analysis_files/convs_n_utterances_stats.tsv\", delimiter=\"\\t\", index_col=False)\n",
    "conversation_lengths['total_n_utterances'] = conversation_lengths.apply(lambda row: row['n_user_utterances'] + row['n_agent_utterances'], axis=1)\n",
    "conversation_lengths.head()"
   ]
  },
  {
   "cell_type": "code",
   "execution_count": 933,
   "id": "995c3455-95c5-48ac-add6-6aa17758f1a7",
   "metadata": {},
   "outputs": [],
   "source": [
    "active_conversations = conversation_lengths[conversation_lengths['condition']=='active']\n",
    "passive_conversations = conversation_lengths[conversation_lengths['condition']=='passive']"
   ]
  },
  {
   "cell_type": "code",
   "execution_count": 934,
   "id": "8643820a-9b8c-4852-8eeb-8315a8e07369",
   "metadata": {},
   "outputs": [
    {
     "data": {
      "text/html": [
       "<div>\n",
       "<style scoped>\n",
       "    .dataframe tbody tr th:only-of-type {\n",
       "        vertical-align: middle;\n",
       "    }\n",
       "\n",
       "    .dataframe tbody tr th {\n",
       "        vertical-align: top;\n",
       "    }\n",
       "\n",
       "    .dataframe thead th {\n",
       "        text-align: right;\n",
       "    }\n",
       "</style>\n",
       "<table border=\"1\" class=\"dataframe\">\n",
       "  <thead>\n",
       "    <tr style=\"text-align: right;\">\n",
       "      <th></th>\n",
       "      <th>n_user_utterances</th>\n",
       "      <th>n_agent_utterances</th>\n",
       "      <th>total_n_utterances</th>\n",
       "    </tr>\n",
       "  </thead>\n",
       "  <tbody>\n",
       "    <tr>\n",
       "      <th>count</th>\n",
       "      <td>24.000000</td>\n",
       "      <td>24.000000</td>\n",
       "      <td>24.000000</td>\n",
       "    </tr>\n",
       "    <tr>\n",
       "      <th>mean</th>\n",
       "      <td>38.458333</td>\n",
       "      <td>41.875000</td>\n",
       "      <td>80.333333</td>\n",
       "    </tr>\n",
       "    <tr>\n",
       "      <th>std</th>\n",
       "      <td>15.359402</td>\n",
       "      <td>13.388225</td>\n",
       "      <td>25.409116</td>\n",
       "    </tr>\n",
       "    <tr>\n",
       "      <th>min</th>\n",
       "      <td>18.000000</td>\n",
       "      <td>16.000000</td>\n",
       "      <td>42.000000</td>\n",
       "    </tr>\n",
       "    <tr>\n",
       "      <th>25%</th>\n",
       "      <td>26.750000</td>\n",
       "      <td>32.750000</td>\n",
       "      <td>61.750000</td>\n",
       "    </tr>\n",
       "    <tr>\n",
       "      <th>50%</th>\n",
       "      <td>34.000000</td>\n",
       "      <td>43.500000</td>\n",
       "      <td>78.000000</td>\n",
       "    </tr>\n",
       "    <tr>\n",
       "      <th>75%</th>\n",
       "      <td>43.000000</td>\n",
       "      <td>50.250000</td>\n",
       "      <td>100.000000</td>\n",
       "    </tr>\n",
       "    <tr>\n",
       "      <th>max</th>\n",
       "      <td>74.000000</td>\n",
       "      <td>72.000000</td>\n",
       "      <td>126.000000</td>\n",
       "    </tr>\n",
       "  </tbody>\n",
       "</table>\n",
       "</div>"
      ],
      "text/plain": [
       "       n_user_utterances  n_agent_utterances  total_n_utterances\n",
       "count          24.000000           24.000000           24.000000\n",
       "mean           38.458333           41.875000           80.333333\n",
       "std            15.359402           13.388225           25.409116\n",
       "min            18.000000           16.000000           42.000000\n",
       "25%            26.750000           32.750000           61.750000\n",
       "50%            34.000000           43.500000           78.000000\n",
       "75%            43.000000           50.250000          100.000000\n",
       "max            74.000000           72.000000          126.000000"
      ]
     },
     "execution_count": 934,
     "metadata": {},
     "output_type": "execute_result"
    }
   ],
   "source": [
    "active_conversations.describe()"
   ]
  },
  {
   "cell_type": "code",
   "execution_count": 935,
   "id": "0039c31a-4933-46a9-bb76-dca2b83f4369",
   "metadata": {},
   "outputs": [
    {
     "data": {
      "text/html": [
       "<div>\n",
       "<style scoped>\n",
       "    .dataframe tbody tr th:only-of-type {\n",
       "        vertical-align: middle;\n",
       "    }\n",
       "\n",
       "    .dataframe tbody tr th {\n",
       "        vertical-align: top;\n",
       "    }\n",
       "\n",
       "    .dataframe thead th {\n",
       "        text-align: right;\n",
       "    }\n",
       "</style>\n",
       "<table border=\"1\" class=\"dataframe\">\n",
       "  <thead>\n",
       "    <tr style=\"text-align: right;\">\n",
       "      <th></th>\n",
       "      <th>n_user_utterances</th>\n",
       "      <th>n_agent_utterances</th>\n",
       "      <th>total_n_utterances</th>\n",
       "    </tr>\n",
       "  </thead>\n",
       "  <tbody>\n",
       "    <tr>\n",
       "      <th>count</th>\n",
       "      <td>24.000000</td>\n",
       "      <td>24.000000</td>\n",
       "      <td>24.000000</td>\n",
       "    </tr>\n",
       "    <tr>\n",
       "      <th>mean</th>\n",
       "      <td>24.166667</td>\n",
       "      <td>17.041667</td>\n",
       "      <td>41.208333</td>\n",
       "    </tr>\n",
       "    <tr>\n",
       "      <th>std</th>\n",
       "      <td>8.575327</td>\n",
       "      <td>6.656015</td>\n",
       "      <td>13.308968</td>\n",
       "    </tr>\n",
       "    <tr>\n",
       "      <th>min</th>\n",
       "      <td>12.000000</td>\n",
       "      <td>5.000000</td>\n",
       "      <td>23.000000</td>\n",
       "    </tr>\n",
       "    <tr>\n",
       "      <th>25%</th>\n",
       "      <td>16.750000</td>\n",
       "      <td>12.000000</td>\n",
       "      <td>29.000000</td>\n",
       "    </tr>\n",
       "    <tr>\n",
       "      <th>50%</th>\n",
       "      <td>24.000000</td>\n",
       "      <td>17.500000</td>\n",
       "      <td>36.500000</td>\n",
       "    </tr>\n",
       "    <tr>\n",
       "      <th>75%</th>\n",
       "      <td>31.000000</td>\n",
       "      <td>22.250000</td>\n",
       "      <td>54.000000</td>\n",
       "    </tr>\n",
       "    <tr>\n",
       "      <th>max</th>\n",
       "      <td>39.000000</td>\n",
       "      <td>28.000000</td>\n",
       "      <td>66.000000</td>\n",
       "    </tr>\n",
       "  </tbody>\n",
       "</table>\n",
       "</div>"
      ],
      "text/plain": [
       "       n_user_utterances  n_agent_utterances  total_n_utterances\n",
       "count          24.000000           24.000000           24.000000\n",
       "mean           24.166667           17.041667           41.208333\n",
       "std             8.575327            6.656015           13.308968\n",
       "min            12.000000            5.000000           23.000000\n",
       "25%            16.750000           12.000000           29.000000\n",
       "50%            24.000000           17.500000           36.500000\n",
       "75%            31.000000           22.250000           54.000000\n",
       "max            39.000000           28.000000           66.000000"
      ]
     },
     "execution_count": 935,
     "metadata": {},
     "output_type": "execute_result"
    }
   ],
   "source": [
    "passive_conversations.describe()"
   ]
  },
  {
   "cell_type": "code",
   "execution_count": 936,
   "id": "2cc11efc-0b71-4229-b53b-901b76fab1b2",
   "metadata": {},
   "outputs": [
    {
     "data": {
      "text/plain": [
       "MannwhitneyuResult(statistic=47.0, pvalue=3.5057226490499377e-07)"
      ]
     },
     "execution_count": 936,
     "metadata": {},
     "output_type": "execute_result"
    }
   ],
   "source": [
    "stats.mannwhitneyu(active_conversations['total_n_utterances'], passive_conversations['total_n_utterances'])"
   ]
  },
  {
   "cell_type": "code",
   "execution_count": 937,
   "id": "a6808f37-ca38-4fbe-8300-995eaba43314",
   "metadata": {},
   "outputs": [
    {
     "data": {
      "text/plain": [
       "MannwhitneyuResult(statistic=120.0, pvalue=0.0002724633228903093)"
      ]
     },
     "execution_count": 937,
     "metadata": {},
     "output_type": "execute_result"
    }
   ],
   "source": [
    "stats.mannwhitneyu(active_conversations['n_user_utterances'], passive_conversations['n_user_utterances'])"
   ]
  },
  {
   "cell_type": "code",
   "execution_count": 938,
   "id": "99e5d668-287a-4033-aa58-cc6fa8bcae3a",
   "metadata": {},
   "outputs": [
    {
     "data": {
      "text/plain": [
       "MannwhitneyuResult(statistic=27.5, pvalue=4.072738450078075e-08)"
      ]
     },
     "execution_count": 938,
     "metadata": {},
     "output_type": "execute_result"
    }
   ],
   "source": [
    "stats.mannwhitneyu(active_conversations['n_agent_utterances'], passive_conversations['n_agent_utterances'])"
   ]
  },
  {
   "cell_type": "markdown",
   "id": "5a7c9610-6ee3-4c96-8d17-c2db0cfe266b",
   "metadata": {},
   "source": [
    "# 8. Intervention Type"
   ]
  },
  {
   "cell_type": "code",
   "execution_count": 948,
   "id": "aab56f09-1712-44d6-9906-77b4c88e23ac",
   "metadata": {},
   "outputs": [],
   "source": [
    "intervention_type = pd.read_csv('data_nugget_analysis/woz_data_analysis_files/intervention_type_step.tsv',\n",
    "                                sep='\\t', index_col=False)\n"
   ]
  },
  {
   "cell_type": "code",
   "execution_count": 949,
   "id": "900b99c6-a481-413e-817e-a530a13fd1ff",
   "metadata": {},
   "outputs": [
    {
     "data": {
      "text/html": [
       "<div>\n",
       "<style scoped>\n",
       "    .dataframe tbody tr th:only-of-type {\n",
       "        vertical-align: middle;\n",
       "    }\n",
       "\n",
       "    .dataframe tbody tr th {\n",
       "        vertical-align: top;\n",
       "    }\n",
       "\n",
       "    .dataframe thead th {\n",
       "        text-align: right;\n",
       "    }\n",
       "</style>\n",
       "<table border=\"1\" class=\"dataframe\">\n",
       "  <thead>\n",
       "    <tr style=\"text-align: right;\">\n",
       "      <th></th>\n",
       "      <th>conv_id</th>\n",
       "      <th>condition</th>\n",
       "      <th>step_n</th>\n",
       "      <th>nugget_count</th>\n",
       "      <th>intervention_type</th>\n",
       "      <th>question</th>\n",
       "      <th>answer</th>\n",
       "      <th>other</th>\n",
       "      <th>cooking_technique</th>\n",
       "      <th>equipment</th>\n",
       "      <th>ingredient</th>\n",
       "      <th>knowledge</th>\n",
       "      <th>meal</th>\n",
       "      <th>misc</th>\n",
       "      <th>preparation</th>\n",
       "      <th>recipe</th>\n",
       "      <th>temperature</th>\n",
       "      <th>time</th>\n",
       "    </tr>\n",
       "  </thead>\n",
       "  <tbody>\n",
       "    <tr>\n",
       "      <th>0</th>\n",
       "      <td>o9UbVjHVrS</td>\n",
       "      <td>active</td>\n",
       "      <td>3</td>\n",
       "      <td>5</td>\n",
       "      <td>statement</td>\n",
       "      <td>4</td>\n",
       "      <td>9</td>\n",
       "      <td>7</td>\n",
       "      <td>1</td>\n",
       "      <td>1</td>\n",
       "      <td>0</td>\n",
       "      <td>1</td>\n",
       "      <td>0</td>\n",
       "      <td>0</td>\n",
       "      <td>1</td>\n",
       "      <td>0</td>\n",
       "      <td>0</td>\n",
       "      <td>0</td>\n",
       "    </tr>\n",
       "    <tr>\n",
       "      <th>1</th>\n",
       "      <td>o9UbVjHVrS</td>\n",
       "      <td>active</td>\n",
       "      <td>3</td>\n",
       "      <td>0</td>\n",
       "      <td>statement</td>\n",
       "      <td>1</td>\n",
       "      <td>2</td>\n",
       "      <td>3</td>\n",
       "      <td>1</td>\n",
       "      <td>0</td>\n",
       "      <td>0</td>\n",
       "      <td>0</td>\n",
       "      <td>0</td>\n",
       "      <td>0</td>\n",
       "      <td>0</td>\n",
       "      <td>0</td>\n",
       "      <td>0</td>\n",
       "      <td>0</td>\n",
       "    </tr>\n",
       "    <tr>\n",
       "      <th>2</th>\n",
       "      <td>o9UbVjHVrS</td>\n",
       "      <td>active</td>\n",
       "      <td>3</td>\n",
       "      <td>2</td>\n",
       "      <td>statement</td>\n",
       "      <td>4</td>\n",
       "      <td>4</td>\n",
       "      <td>6</td>\n",
       "      <td>0</td>\n",
       "      <td>0</td>\n",
       "      <td>0</td>\n",
       "      <td>2</td>\n",
       "      <td>0</td>\n",
       "      <td>0</td>\n",
       "      <td>0</td>\n",
       "      <td>0</td>\n",
       "      <td>0</td>\n",
       "      <td>0</td>\n",
       "    </tr>\n",
       "    <tr>\n",
       "      <th>3</th>\n",
       "      <td>o9UbVjHVrS</td>\n",
       "      <td>active</td>\n",
       "      <td>3</td>\n",
       "      <td>0</td>\n",
       "      <td>statement</td>\n",
       "      <td>1</td>\n",
       "      <td>4</td>\n",
       "      <td>1</td>\n",
       "      <td>0</td>\n",
       "      <td>0</td>\n",
       "      <td>0</td>\n",
       "      <td>1</td>\n",
       "      <td>0</td>\n",
       "      <td>0</td>\n",
       "      <td>0</td>\n",
       "      <td>0</td>\n",
       "      <td>0</td>\n",
       "      <td>0</td>\n",
       "    </tr>\n",
       "    <tr>\n",
       "      <th>4</th>\n",
       "      <td>o9UbVjHVrS</td>\n",
       "      <td>active</td>\n",
       "      <td>3</td>\n",
       "      <td>3</td>\n",
       "      <td>statement</td>\n",
       "      <td>1</td>\n",
       "      <td>3</td>\n",
       "      <td>2</td>\n",
       "      <td>0</td>\n",
       "      <td>0</td>\n",
       "      <td>0</td>\n",
       "      <td>1</td>\n",
       "      <td>0</td>\n",
       "      <td>0</td>\n",
       "      <td>0</td>\n",
       "      <td>0</td>\n",
       "      <td>0</td>\n",
       "      <td>0</td>\n",
       "    </tr>\n",
       "    <tr>\n",
       "      <th>...</th>\n",
       "      <td>...</td>\n",
       "      <td>...</td>\n",
       "      <td>...</td>\n",
       "      <td>...</td>\n",
       "      <td>...</td>\n",
       "      <td>...</td>\n",
       "      <td>...</td>\n",
       "      <td>...</td>\n",
       "      <td>...</td>\n",
       "      <td>...</td>\n",
       "      <td>...</td>\n",
       "      <td>...</td>\n",
       "      <td>...</td>\n",
       "      <td>...</td>\n",
       "      <td>...</td>\n",
       "      <td>...</td>\n",
       "      <td>...</td>\n",
       "      <td>...</td>\n",
       "    </tr>\n",
       "    <tr>\n",
       "      <th>115</th>\n",
       "      <td>a9780bf6</td>\n",
       "      <td>active</td>\n",
       "      <td>22</td>\n",
       "      <td>0</td>\n",
       "      <td>statement</td>\n",
       "      <td>0</td>\n",
       "      <td>1</td>\n",
       "      <td>2</td>\n",
       "      <td>0</td>\n",
       "      <td>0</td>\n",
       "      <td>0</td>\n",
       "      <td>0</td>\n",
       "      <td>0</td>\n",
       "      <td>0</td>\n",
       "      <td>0</td>\n",
       "      <td>0</td>\n",
       "      <td>0</td>\n",
       "      <td>0</td>\n",
       "    </tr>\n",
       "    <tr>\n",
       "      <th>116</th>\n",
       "      <td>a9780bf6</td>\n",
       "      <td>active</td>\n",
       "      <td>22</td>\n",
       "      <td>2</td>\n",
       "      <td>question</td>\n",
       "      <td>9</td>\n",
       "      <td>8</td>\n",
       "      <td>6</td>\n",
       "      <td>0</td>\n",
       "      <td>0</td>\n",
       "      <td>0</td>\n",
       "      <td>1</td>\n",
       "      <td>0</td>\n",
       "      <td>0</td>\n",
       "      <td>1</td>\n",
       "      <td>0</td>\n",
       "      <td>0</td>\n",
       "      <td>0</td>\n",
       "    </tr>\n",
       "    <tr>\n",
       "      <th>117</th>\n",
       "      <td>2424a396</td>\n",
       "      <td>active</td>\n",
       "      <td>4</td>\n",
       "      <td>4</td>\n",
       "      <td>statement</td>\n",
       "      <td>3</td>\n",
       "      <td>2</td>\n",
       "      <td>8</td>\n",
       "      <td>0</td>\n",
       "      <td>0</td>\n",
       "      <td>1</td>\n",
       "      <td>1</td>\n",
       "      <td>0</td>\n",
       "      <td>0</td>\n",
       "      <td>0</td>\n",
       "      <td>0</td>\n",
       "      <td>0</td>\n",
       "      <td>0</td>\n",
       "    </tr>\n",
       "    <tr>\n",
       "      <th>118</th>\n",
       "      <td>2424a396</td>\n",
       "      <td>active</td>\n",
       "      <td>5</td>\n",
       "      <td>1</td>\n",
       "      <td>question</td>\n",
       "      <td>3</td>\n",
       "      <td>3</td>\n",
       "      <td>5</td>\n",
       "      <td>0</td>\n",
       "      <td>0</td>\n",
       "      <td>0</td>\n",
       "      <td>1</td>\n",
       "      <td>0</td>\n",
       "      <td>0</td>\n",
       "      <td>0</td>\n",
       "      <td>0</td>\n",
       "      <td>0</td>\n",
       "      <td>1</td>\n",
       "    </tr>\n",
       "    <tr>\n",
       "      <th>119</th>\n",
       "      <td>2424a396</td>\n",
       "      <td>active</td>\n",
       "      <td>8</td>\n",
       "      <td>0</td>\n",
       "      <td>statement</td>\n",
       "      <td>0</td>\n",
       "      <td>0</td>\n",
       "      <td>6</td>\n",
       "      <td>0</td>\n",
       "      <td>0</td>\n",
       "      <td>0</td>\n",
       "      <td>0</td>\n",
       "      <td>0</td>\n",
       "      <td>0</td>\n",
       "      <td>0</td>\n",
       "      <td>0</td>\n",
       "      <td>0</td>\n",
       "      <td>0</td>\n",
       "    </tr>\n",
       "  </tbody>\n",
       "</table>\n",
       "<p>120 rows × 18 columns</p>\n",
       "</div>"
      ],
      "text/plain": [
       "        conv_id condition  step_n  nugget_count intervention_type  question  \\\n",
       "0    o9UbVjHVrS    active       3             5         statement         4   \n",
       "1    o9UbVjHVrS    active       3             0         statement         1   \n",
       "2    o9UbVjHVrS    active       3             2         statement         4   \n",
       "3    o9UbVjHVrS    active       3             0         statement         1   \n",
       "4    o9UbVjHVrS    active       3             3         statement         1   \n",
       "..          ...       ...     ...           ...               ...       ...   \n",
       "115    a9780bf6    active      22             0         statement         0   \n",
       "116    a9780bf6    active      22             2          question         9   \n",
       "117    2424a396    active       4             4         statement         3   \n",
       "118    2424a396    active       5             1          question         3   \n",
       "119    2424a396    active       8             0         statement         0   \n",
       "\n",
       "     answer  other  cooking_technique  equipment  ingredient  knowledge  meal  \\\n",
       "0         9      7                  1          1           0          1     0   \n",
       "1         2      3                  1          0           0          0     0   \n",
       "2         4      6                  0          0           0          2     0   \n",
       "3         4      1                  0          0           0          1     0   \n",
       "4         3      2                  0          0           0          1     0   \n",
       "..      ...    ...                ...        ...         ...        ...   ...   \n",
       "115       1      2                  0          0           0          0     0   \n",
       "116       8      6                  0          0           0          1     0   \n",
       "117       2      8                  0          0           1          1     0   \n",
       "118       3      5                  0          0           0          1     0   \n",
       "119       0      6                  0          0           0          0     0   \n",
       "\n",
       "     misc  preparation  recipe  temperature  time  \n",
       "0       0            1       0            0     0  \n",
       "1       0            0       0            0     0  \n",
       "2       0            0       0            0     0  \n",
       "3       0            0       0            0     0  \n",
       "4       0            0       0            0     0  \n",
       "..    ...          ...     ...          ...   ...  \n",
       "115     0            0       0            0     0  \n",
       "116     0            1       0            0     0  \n",
       "117     0            0       0            0     0  \n",
       "118     0            0       0            0     1  \n",
       "119     0            0       0            0     0  \n",
       "\n",
       "[120 rows x 18 columns]"
      ]
     },
     "execution_count": 949,
     "metadata": {},
     "output_type": "execute_result"
    }
   ],
   "source": [
    "intervention_type"
   ]
  },
  {
   "cell_type": "code",
   "execution_count": 950,
   "id": "1231922b-0fe3-41b8-a44d-2939d5950a5d",
   "metadata": {},
   "outputs": [
    {
     "data": {
      "text/plain": [
       "intervention_type\n",
       "question      98\n",
       "statement    128\n",
       "Name: nugget_count, dtype: int64"
      ]
     },
     "execution_count": 950,
     "metadata": {},
     "output_type": "execute_result"
    }
   ],
   "source": [
    "intervention_type.groupby('intervention_type').sum()['nugget_count']"
   ]
  },
  {
   "cell_type": "code",
   "execution_count": 952,
   "id": "e672590f-f3ce-41e0-b91b-d9359ce5d701",
   "metadata": {},
   "outputs": [
    {
     "data": {
      "text/plain": [
       "intervention_type\n",
       "question     131\n",
       "statement    142\n",
       "Name: question, dtype: int64"
      ]
     },
     "execution_count": 952,
     "metadata": {},
     "output_type": "execute_result"
    }
   ],
   "source": [
    "intervention_type.groupby('intervention_type').sum()['question']"
   ]
  },
  {
   "cell_type": "code",
   "execution_count": 951,
   "id": "7e218aa3-f701-4f01-9a22-a2ceb109cd8a",
   "metadata": {},
   "outputs": [
    {
     "data": {
      "text/plain": [
       "statement    71\n",
       "question     49\n",
       "Name: intervention_type, dtype: int64"
      ]
     },
     "execution_count": 951,
     "metadata": {},
     "output_type": "execute_result"
    }
   ],
   "source": [
    "intervention_type['intervention_type'].value_counts()"
   ]
  },
  {
   "cell_type": "code",
   "execution_count": 960,
   "id": "deffd54d-e7af-4fed-b676-ca42f3b6b689",
   "metadata": {},
   "outputs": [],
   "source": [
    "statement_interventions = intervention_type[intervention_type['intervention_type']==\"statement\"]\n",
    "question_interventions = intervention_type[intervention_type['intervention_type']==\"question\"]"
   ]
  },
  {
   "cell_type": "code",
   "execution_count": 962,
   "id": "13dc5d74-c8f6-4beb-aef9-7c733d187dc9",
   "metadata": {},
   "outputs": [
    {
     "data": {
      "text/plain": [
       "MannwhitneyuResult(statistic=1644.0, pvalue=0.300507378098125)"
      ]
     },
     "execution_count": 962,
     "metadata": {},
     "output_type": "execute_result"
    }
   ],
   "source": [
    "stats.mannwhitneyu(statement_interventions['nugget_count'], question_interventions['nugget_count'])"
   ]
  },
  {
   "cell_type": "code",
   "execution_count": 980,
   "id": "b33ab964-1bdf-4fe0-a31c-9c2828de9afa",
   "metadata": {},
   "outputs": [
    {
     "data": {
      "text/plain": [
       "count    71.000000\n",
       "mean      1.802817\n",
       "std       2.370170\n",
       "min       0.000000\n",
       "25%       0.000000\n",
       "50%       1.000000\n",
       "75%       3.000000\n",
       "max      15.000000\n",
       "Name: nugget_count, dtype: float64"
      ]
     },
     "execution_count": 980,
     "metadata": {},
     "output_type": "execute_result"
    }
   ],
   "source": [
    "statement_interventions['nugget_count'].describe()"
   ]
  },
  {
   "cell_type": "code",
   "execution_count": 981,
   "id": "f771cf48-707f-4b18-bd43-d22aecd3d35a",
   "metadata": {},
   "outputs": [
    {
     "data": {
      "text/plain": [
       "count    49.000000\n",
       "mean      2.000000\n",
       "std       2.466441\n",
       "min       0.000000\n",
       "25%       0.000000\n",
       "50%       1.000000\n",
       "75%       3.000000\n",
       "max      11.000000\n",
       "Name: nugget_count, dtype: float64"
      ]
     },
     "execution_count": 981,
     "metadata": {},
     "output_type": "execute_result"
    }
   ],
   "source": [
    "question_interventions['nugget_count'].describe()"
   ]
  },
  {
   "cell_type": "markdown",
   "id": "d1c2c489-8e9f-4c82-b318-77257028c49d",
   "metadata": {},
   "source": [
    "-> führt das zu anderen fragen?"
   ]
  },
  {
   "cell_type": "code",
   "execution_count": 965,
   "id": "33728550-5ef5-4be5-8028-e190a77e2d4e",
   "metadata": {},
   "outputs": [
    {
     "data": {
      "text/plain": [
       "MannwhitneyuResult(statistic=1275.0, pvalue=0.0056709602716702445)"
      ]
     },
     "execution_count": 965,
     "metadata": {},
     "output_type": "execute_result"
    }
   ],
   "source": [
    "stats.mannwhitneyu(statement_interventions['question'], question_interventions['question'])"
   ]
  },
  {
   "cell_type": "code",
   "execution_count": 967,
   "id": "29a07f6f-0a0f-4828-a052-50b7593fe3a8",
   "metadata": {},
   "outputs": [
    {
     "name": "stdout",
     "output_type": "stream",
     "text": [
      "Avg. # of questions following statements: 2.0\n",
      "Avg. # of questions following questions: 2.673469387755102\n"
     ]
    }
   ],
   "source": [
    "print(f\"Avg. # of questions following statements: {statement_interventions['question'].mean()}\")\n",
    "print(f\"Avg. # of questions following questions: {question_interventions['question'].mean()}\")"
   ]
  },
  {
   "cell_type": "code",
   "execution_count": 979,
   "id": "22141284-cf65-48b0-8e4a-681216534b75",
   "metadata": {},
   "outputs": [
    {
     "data": {
      "text/plain": [
       "count    49.000000\n",
       "mean      2.673469\n",
       "std       1.700340\n",
       "min       0.000000\n",
       "25%       2.000000\n",
       "50%       2.000000\n",
       "75%       4.000000\n",
       "max       9.000000\n",
       "Name: question, dtype: float64"
      ]
     },
     "execution_count": 979,
     "metadata": {},
     "output_type": "execute_result"
    }
   ],
   "source": [
    "question_interventions['question'].describe()"
   ]
  },
  {
   "cell_type": "code",
   "execution_count": 982,
   "id": "a4776f59-ef01-42fa-a6b2-2fc98ab99a7f",
   "metadata": {},
   "outputs": [
    {
     "data": {
      "text/plain": [
       "count    71.000000\n",
       "mean      2.000000\n",
       "std       1.796823\n",
       "min       0.000000\n",
       "25%       1.000000\n",
       "50%       2.000000\n",
       "75%       3.000000\n",
       "max       8.000000\n",
       "Name: question, dtype: float64"
      ]
     },
     "execution_count": 982,
     "metadata": {},
     "output_type": "execute_result"
    }
   ],
   "source": [
    "statement_interventions['question'].describe()"
   ]
  },
  {
   "cell_type": "code",
   "execution_count": 968,
   "id": "34a75c79-5bfb-4bb1-80e1-bc32b972b01f",
   "metadata": {},
   "outputs": [
    {
     "name": "stdout",
     "output_type": "stream",
     "text": [
      "MannwhitneyuResult(statistic=1639.5, pvalue=0.2952562996046189)\n",
      "Avg. # of answers following statements: 3.0\n",
      "Avg. # of answers following questions: 3.2448979591836733\n"
     ]
    }
   ],
   "source": [
    "print(stats.mannwhitneyu(statement_interventions['answer'], question_interventions['answer']))\n",
    "print(f\"Avg. # of answers following statements: {statement_interventions['answer'].mean()}\")\n",
    "print(f\"Avg. # of answers following questions: {question_interventions['answer'].mean()}\")"
   ]
  },
  {
   "cell_type": "code",
   "execution_count": 985,
   "id": "998a4b7c-56c4-47da-b920-a90f9a93e735",
   "metadata": {},
   "outputs": [
    {
     "data": {
      "text/plain": [
       "<Figure size 2000x1000 with 0 Axes>"
      ]
     },
     "metadata": {},
     "output_type": "display_data"
    },
    {
     "data": {
      "image/png": "[encoded data removed]",
      "text/plain": [
       "<Figure size 640x480 with 1 Axes>"
      ]
     },
     "metadata": {},
     "output_type": "display_data"
    }
   ],
   "source": [
    "# group the data frame based on intervention_type column\n",
    "groups = intervention_type.groupby('intervention_type')\n",
    "\n",
    "# create a new data frame that counts the occurrences of each information need type for each intervention type\n",
    "counts_df = groups[['cooking_technique', 'equipment', 'ingredient', 'knowledge', 'meal', 'misc', 'preparation', 'recipe', 'temperature', 'time']].sum()\n",
    "fig = plt.figure(figsize=(20, 10))\n",
    "\n",
    "# create a stacked bar chart that shows the distribution of each information need type within each intervention type\n",
    "counts_df.plot(kind='bar')\n",
    "\n",
    "# add labels and legend to the chart\n",
    "plt.title('Distribution of Information Need Types by Intervention Type')\n",
    "plt.xlabel('Intervention Type')\n",
    "plt.ylabel('Count')\n",
    "plt.legend(loc='center left', bbox_to_anchor=(1.0, 0.5), fontsize=12)\n",
    "\n",
    "# show the chart\n",
    "plt.show()"
   ]
  },
  {
   "cell_type": "code",
   "execution_count": 977,
   "id": "243c9fea-ee8f-41c7-b357-a35fff3f7c2b",
   "metadata": {},
   "outputs": [
    {
     "data": {
      "text/html": [
       "<div>\n",
       "<style scoped>\n",
       "    .dataframe tbody tr th:only-of-type {\n",
       "        vertical-align: middle;\n",
       "    }\n",
       "\n",
       "    .dataframe tbody tr th {\n",
       "        vertical-align: top;\n",
       "    }\n",
       "\n",
       "    .dataframe thead th {\n",
       "        text-align: right;\n",
       "    }\n",
       "</style>\n",
       "<table border=\"1\" class=\"dataframe\">\n",
       "  <thead>\n",
       "    <tr style=\"text-align: right;\">\n",
       "      <th></th>\n",
       "      <th>cooking_technique</th>\n",
       "      <th>equipment</th>\n",
       "      <th>ingredient</th>\n",
       "      <th>knowledge</th>\n",
       "      <th>meal</th>\n",
       "      <th>misc</th>\n",
       "      <th>preparation</th>\n",
       "      <th>recipe</th>\n",
       "      <th>temperature</th>\n",
       "      <th>time</th>\n",
       "      <th>total</th>\n",
       "    </tr>\n",
       "    <tr>\n",
       "      <th>intervention_type</th>\n",
       "      <th></th>\n",
       "      <th></th>\n",
       "      <th></th>\n",
       "      <th></th>\n",
       "      <th></th>\n",
       "      <th></th>\n",
       "      <th></th>\n",
       "      <th></th>\n",
       "      <th></th>\n",
       "      <th></th>\n",
       "      <th></th>\n",
       "    </tr>\n",
       "  </thead>\n",
       "  <tbody>\n",
       "    <tr>\n",
       "      <th>question</th>\n",
       "      <td>1</td>\n",
       "      <td>4</td>\n",
       "      <td>7</td>\n",
       "      <td>37</td>\n",
       "      <td>0</td>\n",
       "      <td>0</td>\n",
       "      <td>7</td>\n",
       "      <td>1</td>\n",
       "      <td>2</td>\n",
       "      <td>1</td>\n",
       "      <td>120</td>\n",
       "    </tr>\n",
       "    <tr>\n",
       "      <th>statement</th>\n",
       "      <td>12</td>\n",
       "      <td>6</td>\n",
       "      <td>16</td>\n",
       "      <td>43</td>\n",
       "      <td>0</td>\n",
       "      <td>0</td>\n",
       "      <td>19</td>\n",
       "      <td>1</td>\n",
       "      <td>1</td>\n",
       "      <td>5</td>\n",
       "      <td>206</td>\n",
       "    </tr>\n",
       "  </tbody>\n",
       "</table>\n",
       "</div>"
      ],
      "text/plain": [
       "                   cooking_technique  equipment  ingredient  knowledge  meal  \\\n",
       "intervention_type                                                              \n",
       "question                           1          4           7         37     0   \n",
       "statement                         12          6          16         43     0   \n",
       "\n",
       "                   misc  preparation  recipe  temperature  time  total  \n",
       "intervention_type                                                       \n",
       "question              0            7       1            2     1    120  \n",
       "statement             0           19       1            1     5    206  "
      ]
     },
     "execution_count": 977,
     "metadata": {},
     "output_type": "execute_result"
    }
   ],
   "source": [
    "counts_df"
   ]
  },
  {
   "cell_type": "code",
   "execution_count": 973,
   "id": "3bff496b-dc29-4e35-8f25-eac59c058308",
   "metadata": {},
   "outputs": [],
   "source": [
    "from scipy.stats import fisher_exact\n"
   ]
  },
  {
   "cell_type": "code",
   "execution_count": 976,
   "id": "bbacada8-e876-495a-af54-5d57ff0444be",
   "metadata": {},
   "outputs": [
    {
     "name": "stdout",
     "output_type": "stream",
     "text": [
      "[{'cooking_technique': 0.037251965453243246}, {'equipment': 1.0}, {'ingredient': 0.6563375169624749}, {'knowledge': 0.12600753414683413}, {'meal': 1.0}, {'misc': 1.0}, {'preparation': 0.3979614692289885}, {'recipe': 1.0}, {'temperature': 0.5577160731034414}, {'time': 0.4220638901687058}]\n"
     ]
    }
   ],
   "source": [
    "# perform Fisher's exact test\n",
    "counts_df['total'] = counts_df.sum(axis=1)\n",
    "\n",
    "# perform Fisher's exact test\n",
    "p_values = []\n",
    "for column in counts_df.columns[:-1]: # exclude the 'total' column\n",
    "    contingency_table = counts_df[[column, 'total']].values\n",
    "    oddsratio, p_value = fisher_exact(contingency_table)\n",
    "    p_values.append({column: p_value})\n",
    "\n",
    "# print the p-values for each information need type\n",
    "print(p_values)"
   ]
  },
  {
   "cell_type": "code",
   "execution_count": null,
   "id": "174e7e41-eb4f-4e2c-ab4b-62ccc1d14778",
   "metadata": {},
   "outputs": [],
   "source": []
  }
 ],
 "metadata": {
  "kernelspec": {
   "display_name": "Python 3 (ipykernel)",
   "language": "python",
   "name": "python3"
  },
  "language_info": {
   "codemirror_mode": {
    "name": "ipython",
    "version": 3
   },
   "file_extension": ".py",
   "mimetype": "text/x-python",
   "name": "python",
   "nbconvert_exporter": "python",
   "pygments_lexer": "ipython3",
   "version": "3.9.7"
  }
 },
 "nbformat": 4,
 "nbformat_minor": 5
}
